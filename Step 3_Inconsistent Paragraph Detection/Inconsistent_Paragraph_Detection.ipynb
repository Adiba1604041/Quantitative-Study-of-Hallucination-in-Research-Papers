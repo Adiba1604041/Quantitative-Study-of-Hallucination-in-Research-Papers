{
  "cells": [
    {
      "cell_type": "markdown",
      "source": [
        "## **Step 3: Inconsistent Paragraph Detection**"
      ],
      "metadata": {
        "id": "8yKy3bOYNiTA"
      },
      "id": "8yKy3bOYNiTA"
    },
    {
      "cell_type": "markdown",
      "id": "f8cc9343-7e02-4435-9d34-28fb40d0f388",
      "metadata": {
        "id": "f8cc9343-7e02-4435-9d34-28fb40d0f388"
      },
      "source": [
        "## Fine-tune Longformer"
      ]
    },
    {
      "cell_type": "code",
      "execution_count": null,
      "id": "5b0ac6eb-10de-4fc1-a667-c6e96a814e6c",
      "metadata": {
        "id": "5b0ac6eb-10de-4fc1-a667-c6e96a814e6c"
      },
      "outputs": [],
      "source": [
        "\n",
        "import pandas as pd\n",
        "from datasets import Dataset, DatasetDict\n",
        "from transformers import AutoTokenizer, AutoModelForSequenceClassification, Trainer, TrainingArguments\n",
        "from sklearn.model_selection import train_test_split\n",
        "from sklearn.metrics import accuracy_score, precision_recall_fscore_support\n",
        "from sklearn.preprocessing import LabelEncoder\n",
        "\n",
        "df = pd.read_csv(\"Final_for_finetune.csv\")\n",
        "le = LabelEncoder()\n",
        "df[\"Label\"] = le.fit_transform(df[\"Label\"])\n",
        "\n",
        "df = df[[\"Paragraph\", \"Label\"]].rename(columns={\"Paragraph\": \"text\", \"Label\": \"label\"})\n",
        "\n",
        "train_df, val_df = train_test_split(df, test_size=0.2, stratify=df[\"label\"], random_state=42)\n",
        "\n",
        "dataset = DatasetDict({\n",
        "    \"train\": Dataset.from_pandas(train_df),\n",
        "    \"validation\": Dataset.from_pandas(val_df)\n",
        "})\n",
        "\n",
        "model_name = \"allenai/longformer-base-4096\"\n",
        "tokenizer = AutoTokenizer.from_pretrained(model_name)\n",
        "\n",
        "def tokenize(batch):\n",
        "    return tokenizer(batch[\"text\"], padding=True, truncation=True, max_length=4096, return_tensors=\"pt\")\n",
        "\n",
        "tokenized_dataset = dataset.map(tokenize, batched=True)\n",
        "\n",
        "model = AutoModelForSequenceClassification.from_pretrained(model_name, num_labels=2)\n",
        "\n",
        "def compute_metrics(pred):\n",
        "    labels = pred.label_ids\n",
        "    preds = pred.predictions.argmax(-1)\n",
        "    acc = accuracy_score(labels, preds)\n",
        "    precision, recall, f1, _ = precision_recall_fscore_support(labels, preds, average=\"binary\")\n",
        "    return {\"accuracy\": acc, \"precision\": precision, \"recall\": recall, \"f1\": f1}\n",
        "\n",
        "training_args = TrainingArguments(\n",
        "    output_dir=\"./longformer-results\",\n",
        "    evaluation_strategy=\"epoch\",\n",
        "    save_strategy=\"epoch\",\n",
        "    learning_rate=2e-5,\n",
        "    per_device_train_batch_size=1,\n",
        "    per_device_eval_batch_size=1,\n",
        "    num_train_epochs=3,\n",
        "    weight_decay=0.001,\n",
        "    logging_dir='./logs',\n",
        "    load_best_model_at_end=True,\n",
        "    metric_for_best_model=\"f1\",\n",
        "    gradient_accumulation_steps=8\n",
        ")\n",
        "\n",
        "trainer = Trainer(\n",
        "    model=model,\n",
        "    args=training_args,\n",
        "    train_dataset=tokenized_dataset[\"train\"],\n",
        "    eval_dataset=tokenized_dataset[\"validation\"],\n",
        "    tokenizer=tokenizer,\n",
        "    compute_metrics=compute_metrics,\n",
        ")\n",
        "\n",
        "trainer.train()\n",
        "\n",
        "model.save_pretrained(\"./longformer-check\")\n",
        "tokenizer.save_pretrained(\"./longformer-check\")\n"
      ]
    },
    {
      "cell_type": "markdown",
      "id": "b490e456-3235-444f-b330-ad3e50cd9991",
      "metadata": {
        "id": "b490e456-3235-444f-b330-ad3e50cd9991"
      },
      "source": [
        "## Retrive Fine-tuned Longformer"
      ]
    },
    {
      "cell_type": "code",
      "execution_count": null,
      "id": "000baa52-5a5f-4130-aebf-cf1c382b13ba",
      "metadata": {
        "id": "000baa52-5a5f-4130-aebf-cf1c382b13ba"
      },
      "outputs": [],
      "source": [
        "from sklearn.preprocessing import LabelEncoder\n",
        "from sklearn.model_selection import train_test_split\n",
        "import pandas as pd\n",
        "df = pd.read_csv(\"Final_for_finetune.csv\")\n",
        "le = LabelEncoder()\n",
        "df[\"Label\"] = le.fit_transform(df[\"Label\"])\n",
        "\n",
        "df = df[[\"Paragraph\", \"Label\"]].rename(columns={\"Paragraph\": \"text\", \"Label\": \"label\"})\n",
        "\n",
        "train_df, val_df = train_test_split(df, test_size=0.2, stratify=df[\"label\"], random_state=42)"
      ]
    },
    {
      "cell_type": "code",
      "execution_count": null,
      "id": "9bbc6d76-bba1-4d28-82a8-0e52f37c37cc",
      "metadata": {
        "id": "9bbc6d76-bba1-4d28-82a8-0e52f37c37cc"
      },
      "outputs": [],
      "source": [
        "import torch\n",
        "from transformers import AutoModelForSequenceClassification, AutoTokenizer\n",
        "from sklearn.metrics import accuracy_score, precision_recall_fscore_support\n",
        "import pandas as pd\n",
        "from tqdm import tqdm\n",
        "\n",
        "model_dir = \"./longformer-finetuned\"\n",
        "model = AutoModelForSequenceClassification.from_pretrained(model_dir)\n",
        "tokenizer = AutoTokenizer.from_pretrained(model_dir)\n",
        "model.eval().cuda()\n",
        "\n",
        "df = val_df\n",
        "texts = df[\"text\"].tolist()\n",
        "true_labels = df[\"label\"].tolist()\n",
        "\n",
        "pred_labels = []\n",
        "for text in tqdm(texts):\n",
        "    inputs = tokenizer(text, return_tensors=\"pt\", truncation=True, padding=True, max_length=512)\n",
        "    inputs = {k: v.cuda() for k, v in inputs.items()}\n",
        "    with torch.no_grad():\n",
        "        logits = model(**inputs).logits\n",
        "        pred = torch.argmax(logits, dim=1).item()\n",
        "        pred_labels.append(pred)\n",
        "\n",
        "accuracy = accuracy_score(true_labels, pred_labels)\n",
        "precision, recall, f1, _ = precision_recall_fscore_support(true_labels, pred_labels, average=\"weighted\")\n",
        "\n",
        "print(f\" Accuracy: {accuracy:.4f}\")\n",
        "print(f\" Precision: {precision:.4f}\")\n",
        "print(f\" Recall: {recall:.4f}\")\n",
        "print(f\" F1 Score: {f1:.4f}\")"
      ]
    },
    {
      "cell_type": "markdown",
      "id": "009af8fc-46fb-4820-8556-ce9d7ade07fa",
      "metadata": {
        "id": "009af8fc-46fb-4820-8556-ce9d7ade07fa"
      },
      "source": [
        "## Using Fine-tuned Longformer"
      ]
    },
    {
      "cell_type": "code",
      "execution_count": null,
      "id": "255c889a-f70d-42ff-abaa-800359ca1962",
      "metadata": {
        "id": "255c889a-f70d-42ff-abaa-800359ca1962"
      },
      "outputs": [],
      "source": [
        "import pandas as pd\n",
        "import torch\n",
        "from transformers import LongformerTokenizer, LongformerForSequenceClassification\n",
        "\n",
        "model_path = \"./longformer-finetuned\"\n",
        "tokenizer = LongformerTokenizer.from_pretrained(model_path)\n",
        "model = LongformerForSequenceClassification.from_pretrained(model_path)\n",
        "\n",
        "device = torch.device(\"cuda\" if torch.cuda.is_available() else \"cpu\")\n",
        "model.to(device)\n",
        "model.eval()\n",
        "\n",
        "df = pd.read_csv(\"Test_data2020.csv\")\n",
        "\n",
        "def predict(abstract, paragraph):\n",
        "    combined_text = f\"Abstract: {abstract} Paragraph: {paragraph}\"\n",
        "\n",
        "    inputs = tokenizer(\n",
        "        combined_text,\n",
        "        padding=\"longest\",\n",
        "        truncation=True,\n",
        "        max_length=4096,\n",
        "        return_tensors=\"pt\"\n",
        "    )\n",
        "\n",
        "    inputs = {k: v.to(device) for k, v in inputs.items()}\n",
        "\n",
        "    with torch.no_grad():\n",
        "        outputs = model(**inputs)\n",
        "        logits = outputs.logits\n",
        "        predicted_class = torch.argmax(logits, dim=1).item()\n",
        "    return predicted_class\n",
        "\n",
        "df[\"predicted_label\"] = df.apply(lambda row: predict(row[\"Abstract\"], row[\"Paragraph\"]), axis=1)\n",
        "\n",
        "label_map = {0: \"negative\", 1: \"positive\"}\n",
        "df[\"predicted_label_text\"] = df[\"predicted_label\"].map(label_map)\n",
        "\n",
        "df.to_csv(\"Test_data2020_labeled.csv\", index=False)\n",
        "print(\"Predictions saved to Test_data2020_labeled.csv\")"
      ]
    },
    {
      "cell_type": "markdown",
      "id": "a0d5f585-09fa-451f-b220-cbb4494ae516",
      "metadata": {
        "id": "a0d5f585-09fa-451f-b220-cbb4494ae516"
      },
      "source": [
        "## Zero shot Longformer"
      ]
    },
    {
      "cell_type": "code",
      "execution_count": null,
      "id": "23a7cb42-23df-4927-bf23-d47f77824cf4",
      "metadata": {
        "id": "23a7cb42-23df-4927-bf23-d47f77824cf4"
      },
      "outputs": [],
      "source": [
        "import torch\n",
        "import pandas as pd\n",
        "import gc\n",
        "import os\n",
        "from transformers import AutoTokenizer, AutoModelForSequenceClassification\n",
        "from torch.nn.functional import softmax\n",
        "from tqdm import tqdm\n",
        "\n",
        "device = torch.device(\"cuda\" if torch.cuda.is_available() else \"cpu\")\n",
        "print(f\"Using device: {device}\")\n",
        "\n",
        "model_name = \"allenai/longformer-base-4096\"\n",
        "tokenizer = AutoTokenizer.from_pretrained(model_name)\n",
        "model = AutoModelForSequenceClassification.from_pretrained(model_name)\n",
        "model.to(device)\n",
        "model.eval()\n",
        "\n",
        "candidate_labels = [\"positive\", \"negative\"]\n",
        "\n",
        "INPUT_CSV = \"Filtered_acl2024.csv\"\n",
        "OUTPUT_CSV = \"Filtered_acl2024_zeroshot.csv\"\n",
        "CHECKPOINT_EVERY = 40\n",
        "\n",
        "df = pd.read_csv(INPUT_CSV)\n",
        "if os.path.exists(OUTPUT_CSV):\n",
        "    df_output = pd.read_csv(OUTPUT_CSV)\n",
        "    start_idx = len(df_output)\n",
        "    print(f\" Resuming from row {start_idx}\")\n",
        "else:\n",
        "    df_output = pd.DataFrame(columns=df.columns.tolist() + [\"predicted_label\"])\n",
        "    start_idx = 0\n",
        "\n",
        "def build_hypothesis(label):\n",
        "    return (\n",
        "        f\"This paragraph has {label} relation to the abstract. \"\n",
        "        \"Here positive relation means relevant to the abstract and negative relation means irrelevant to the abstract.\"\n",
        "    )\n",
        "\n",
        "def zero_shot_predict(abstract, paragraph):\n",
        "    premise = f\"Abstract: {abstract}\\n\\nParagraph: {paragraph}\"\n",
        "    label_scores = {}\n",
        "\n",
        "    for label in candidate_labels:\n",
        "        hypothesis = build_hypothesis(label)\n",
        "        try:\n",
        "            inputs = tokenizer(\n",
        "                premise,\n",
        "                hypothesis,\n",
        "                return_tensors=\"pt\",\n",
        "                truncation=True,\n",
        "                padding=True,\n",
        "                max_length=4096\n",
        "            )\n",
        "            inputs = {k: v.to(device) for k, v in inputs.items()}\n",
        "            with torch.no_grad():\n",
        "                outputs = model(**inputs)\n",
        "                logits = outputs.logits\n",
        "                probs = softmax(logits, dim=1).squeeze()\n",
        "                label_scores[label] = probs[1].item()\n",
        "            del inputs, outputs, logits, probs\n",
        "            torch.cuda.empty_cache()\n",
        "            gc.collect()\n",
        "        except Exception as e:\n",
        "            print(f\" Error with label '{label}': {e}\")\n",
        "            return \"error\"\n",
        "\n",
        "    return max(label_scores, key=label_scores.get)\n",
        "\n",
        "for idx in tqdm(range(start_idx, len(df))):\n",
        "    row = df.iloc[idx]\n",
        "    try:\n",
        "        prediction = zero_shot_predict(row[\"Abstract\"], row[\"Paragraph\"])\n",
        "    except Exception as e:\n",
        "        print(f\" Row {idx} failed: {e}\")\n",
        "        prediction = \"error\"\n",
        "    row[\"predicted_label\"] = prediction\n",
        "    df_output = pd.concat([df_output, pd.DataFrame([row])], ignore_index=True)\n",
        "\n",
        "    if idx % CHECKPOINT_EVERY == 0 or idx == len(df) - 1:\n",
        "        df_output.to_csv(OUTPUT_CSV, index=False)\n",
        "        print(f\" Saved progress at row {idx}\")\n",
        "        torch.cuda.empty_cache()\n",
        "        gc.collect()\n"
      ]
    },
    {
      "cell_type": "markdown",
      "id": "82b6c6cd-276f-425f-bcb9-8692d9ccc734",
      "metadata": {
        "id": "82b6c6cd-276f-425f-bcb9-8692d9ccc734"
      },
      "source": [
        "## Using Few shot Longformer"
      ]
    },
    {
      "cell_type": "code",
      "execution_count": null,
      "id": "4a0a8e6b-c0cd-4aee-b492-5b99d5cf1a6a",
      "metadata": {
        "id": "4a0a8e6b-c0cd-4aee-b492-5b99d5cf1a6a"
      },
      "outputs": [],
      "source": [
        "import torch\n",
        "import pandas as pd\n",
        "import gc\n",
        "import os\n",
        "from transformers import AutoTokenizer, AutoModelForSequenceClassification\n",
        "from torch.nn.functional import softmax\n",
        "from tqdm import tqdm\n",
        "\n",
        "device = torch.device(\"cuda\" if torch.cuda.is_available() else \"cpu\")\n",
        "print(f\"Using device: {device}\")\n",
        "\n",
        "model_name = \"allenai/longformer-base-4096\"\n",
        "tokenizer = AutoTokenizer.from_pretrained(model_name)\n",
        "model = AutoModelForSequenceClassification.from_pretrained(model_name)\n",
        "model.to(device)\n",
        "model.eval()\n",
        "\n",
        "candidate_labels = [\"positive\", \"negative\"]\n",
        "\n",
        "INPUT_CSV = \"Filtered_acl2024.csv\"\n",
        "OUTPUT_CSV = \"Filtered_acl2024_fewshot.csv\"\n",
        "CHECKPOINT_EVERY = 40\n",
        "\n",
        "df = pd.read_csv(INPUT_CSV)\n",
        "if os.path.exists(OUTPUT_CSV):\n",
        "    df_output = pd.read_csv(OUTPUT_CSV)\n",
        "    start_idx = len(df_output)\n",
        "    print(f\" Resuming from row {start_idx}\")\n",
        "else:\n",
        "    df_output = pd.DataFrame(columns=df.columns.tolist() + [\"predicted_label\"])\n",
        "    start_idx = 0\n",
        "\n",
        "few_shot_examples = [\n",
        "    {\n",
        "        \"abstract\": \"This paper introduces a new attention mechanism for neural networks.\",\n",
        "        \"paragraph\": \"We propose a transformer-based model that improves over previous RNNs on sequence modeling.\",\n",
        "        \"label\": \"positive\"\n",
        "    },\n",
        "    {\n",
        "        \"abstract\": \"We explore methods to improve dependency parsing accuracy.\",\n",
        "        \"paragraph\": \"Our experiments show minimal difference when applying dropout to image classification.\",\n",
        "        \"label\": \"negative\"\n",
        "    },\n",
        "    {\n",
        "        \"abstract\": \"This study evaluates text summarization using reinforcement learning.\",\n",
        "        \"paragraph\": \"The reward function optimizes for ROUGE score and coherence simultaneously.\",\n",
        "        \"label\": \"positive\"\n",
        "    }\n",
        "]\n",
        "\n",
        "def build_hypothesis(label):\n",
        "    return (\n",
        "        f\"This paragraph has {label} relation to the abstract. \"\n",
        "        \"Here positive relation means relevant to the abstract and negative relation means irrelevant to the abstract.\"\n",
        "    )\n",
        "\n",
        "def build_few_shot_premise(abstract, paragraph):\n",
        "    prompt = \"\"\n",
        "    for ex in few_shot_examples:\n",
        "        prompt += (\n",
        "            f\"Example:\\n\"\n",
        "            f\"Abstract: {ex['abstract']}\\n\"\n",
        "            f\"Paragraph: {ex['paragraph']}\\n\"\n",
        "            f\"Label: {ex['label']}\\n\\n\"\n",
        "        )\n",
        "    prompt += \"Now classify this new example:\\n\"\n",
        "    prompt += f\"Abstract: {abstract}\\nParagraph: {paragraph}\"\n",
        "    return prompt\n",
        "\n",
        "def few_shot_predict(abstract, paragraph):\n",
        "    premise = build_few_shot_premise(abstract, paragraph)\n",
        "    label_scores = {}\n",
        "\n",
        "    for label in candidate_labels:\n",
        "        hypothesis = build_hypothesis(label)\n",
        "        try:\n",
        "            inputs = tokenizer(\n",
        "                premise,\n",
        "                hypothesis,\n",
        "                return_tensors=\"pt\",\n",
        "                truncation=True,\n",
        "                padding=True,\n",
        "                max_length=4096\n",
        "            )\n",
        "            inputs = {k: v.to(device) for k, v in inputs.items()}\n",
        "            with torch.no_grad():\n",
        "                outputs = model(**inputs)\n",
        "                logits = outputs.logits\n",
        "                probs = softmax(logits, dim=1).squeeze()\n",
        "                label_scores[label] = probs[1].item()\n",
        "            del inputs, outputs, logits, probs\n",
        "            torch.cuda.empty_cache()\n",
        "            gc.collect()\n",
        "        except Exception as e:\n",
        "            print(f\" Error with label '{label}': {e}\")\n",
        "            return \"error\"\n",
        "\n",
        "    return max(label_scores, key=label_scores.get)\n",
        "\n",
        "for idx in tqdm(range(start_idx, len(df))):\n",
        "    row = df.iloc[idx]\n",
        "    try:\n",
        "        prediction = few_shot_predict(row[\"Abstract\"], row[\"Paragraph\"])\n",
        "    except Exception as e:\n",
        "        print(f\" Row {idx} failed: {e}\")\n",
        "        prediction = \"error\"\n",
        "    row[\"predicted_label\"] = prediction\n",
        "    df_output = pd.concat([df_output, pd.DataFrame([row])], ignore_index=True)\n",
        "\n",
        "    if idx % CHECKPOINT_EVERY == 0 or idx == len(df) - 1:\n",
        "        df_output.to_csv(OUTPUT_CSV, index=False)\n",
        "        print(f\" Saved progress at row {idx}\")\n",
        "        torch.cuda.empty_cache()\n",
        "        gc.collect()\n"
      ]
    },
    {
      "cell_type": "markdown",
      "id": "76e0be98-5587-4323-afda-00604089f790",
      "metadata": {
        "id": "76e0be98-5587-4323-afda-00604089f790"
      },
      "source": [
        "## Fine-tune SciBERT"
      ]
    },
    {
      "cell_type": "code",
      "execution_count": null,
      "id": "75c7b8a0-b8b3-466e-902f-8e4241205c05",
      "metadata": {
        "id": "75c7b8a0-b8b3-466e-902f-8e4241205c05"
      },
      "outputs": [],
      "source": [
        "import torch\n",
        "import pandas as pd\n",
        "from datasets import Dataset, DatasetDict\n",
        "from transformers import AutoTokenizer, AutoModelForSequenceClassification, Trainer, TrainingArguments\n",
        "from sklearn.model_selection import train_test_split\n",
        "from sklearn.metrics import accuracy_score, precision_recall_fscore_support\n",
        "from sklearn.preprocessing import LabelEncoder\n",
        "\n",
        "df = pd.read_csv(\"Final_for_finetune.csv\")\n",
        "\n",
        "label_encoder = LabelEncoder()\n",
        "\n",
        "df['Label'] = label_encoder.fit_transform(df['Label'])\n",
        "\n",
        "def combine_inputs(row):\n",
        "    return f\"[CLS] Abstract: {row['Abstract']} [SEP] Paragraph: {row['Paragraph']}\"\n",
        "\n",
        "df[\"text\"] = df.apply(combine_inputs, axis=1)\n",
        "\n",
        "train_df, val_df = train_test_split(df[[\"text\", \"Label\"]], test_size=0.2, stratify=df[\"Label\"], random_state=42)\n",
        "train_df = train_df.rename(columns={\"Label\": \"labels\"})\n",
        "val_df = val_df.rename(columns={\"Label\": \"labels\"})\n",
        "\n",
        "dataset = DatasetDict({\n",
        "    \"train\": Dataset.from_pandas(train_df),\n",
        "    \"validation\": Dataset.from_pandas(val_df)\n",
        "})\n",
        "\n",
        "model_name = \"allenai/scibert_scivocab_cased\"\n",
        "tokenizer = AutoTokenizer.from_pretrained(model_name, from_flax=True)\n",
        "\n",
        "max_length = 512\n",
        "\n",
        "def tokenize_function(batch):\n",
        "    return tokenizer(\n",
        "        batch[\"text\"],\n",
        "        padding=\"max_length\",\n",
        "        truncation=True,\n",
        "        max_length=max_length,\n",
        "    )\n",
        "\n",
        "tokenized_dataset = dataset.map(\n",
        "    tokenize_function,\n",
        "    batched=True,\n",
        "    remove_columns=[\"text\"]\n",
        ")\n",
        "\n",
        "model = AutoModelForSequenceClassification.from_pretrained(model_name, num_labels=2)\n",
        "\n",
        "def compute_metrics(pred):\n",
        "    labels = pred.label_ids\n",
        "    preds = pred.predictions.argmax(-1)\n",
        "    acc = accuracy_score(labels, preds)\n",
        "    precision, recall, f1, _ = precision_recall_fscore_support(labels, preds, average=\"binary\")\n",
        "    return {\"accuracy\": acc, \"precision\": precision, \"recall\": recall, \"f1\": f1}\n",
        "\n",
        "training_args = TrainingArguments(\n",
        "    output_dir=\"./scibert-abstract-paragraph-results\",\n",
        "    evaluation_strategy=\"epoch\",\n",
        "    save_strategy=\"epoch\",\n",
        "    save_total_limit=1,\n",
        "    learning_rate=2e-5,\n",
        "    per_device_train_batch_size=8,\n",
        "    per_device_eval_batch_size=8,\n",
        "    gradient_accumulation_steps=1,\n",
        "    num_train_epochs=5,\n",
        "    weight_decay=0.01,\n",
        "    logging_dir='./logs',\n",
        "    logging_steps=500,\n",
        "    load_best_model_at_end=True,\n",
        "    metric_for_best_model=\"f1\",\n",
        ")\n",
        "\n",
        "trainer = Trainer(\n",
        "    model=model,\n",
        "    args=training_args,\n",
        "    train_dataset=tokenized_dataset[\"train\"],\n",
        "    eval_dataset=tokenized_dataset[\"validation\"],\n",
        "    tokenizer=tokenizer,\n",
        "    compute_metrics=compute_metrics,\n",
        ")\n",
        "\n",
        "trainer.train()\n",
        "\n",
        "model.save_pretrained(\"./scibert-finetuned-context\")\n",
        "tokenizer.save_pretrained(\"./scibert-finetuned-context\")\n"
      ]
    },
    {
      "cell_type": "markdown",
      "id": "b177fb80-8429-44b9-bcd7-13aefce8b368",
      "metadata": {
        "id": "b177fb80-8429-44b9-bcd7-13aefce8b368"
      },
      "source": [
        "## Using Fine-tuned SciBERT"
      ]
    },
    {
      "cell_type": "code",
      "execution_count": null,
      "id": "97bbafda-33a4-4eab-9aea-b149d652a77e",
      "metadata": {
        "id": "97bbafda-33a4-4eab-9aea-b149d652a77e"
      },
      "outputs": [],
      "source": [
        "import pandas as pd\n",
        "import torch\n",
        "from transformers import AutoTokenizer, AutoModelForSequenceClassification\n",
        "\n",
        "model_path = \"./scibert-finetuned-context\"\n",
        "tokenizer = AutoTokenizer.from_pretrained(model_path)\n",
        "model = AutoModelForSequenceClassification.from_pretrained(model_path)\n",
        "\n",
        "device = torch.device(\"cuda\" if torch.cuda.is_available() else \"cpu\")\n",
        "model.to(device)\n",
        "model.eval()\n",
        "\n",
        "df = pd.read_csv(\"Filtered_acl2022.csv\")\n",
        "\n",
        "def predict(abstract, paragraph):\n",
        "    combined_text = f\"[CLS] Abstract: {abstract} [SEP] Paragraph: {paragraph}\"\n",
        "\n",
        "    inputs = tokenizer(\n",
        "        combined_text,\n",
        "        padding=\"longest\",\n",
        "        truncation=True,\n",
        "        max_length=512,\n",
        "        return_tensors=\"pt\"\n",
        "    )\n",
        "\n",
        "    inputs = {k: v.to(device) for k, v in inputs.items()}\n",
        "\n",
        "    with torch.no_grad():\n",
        "        outputs = model(**inputs)\n",
        "        logits = outputs.logits\n",
        "        predicted_class = torch.argmax(logits, dim=1).item()\n",
        "    return predicted_class\n",
        "\n",
        "df[\"predicted_label\"] = df.apply(lambda row: predict(row[\"Abstract\"], row[\"Paragraph\"]), axis=1)\n",
        "\n",
        "df[\"predicted_label_text\"] = df[\"predicted_label\"].map({0: \"negative\", 1: \"positive\"})\n",
        "\n",
        "df.to_csv(\"Filtered_acl2022_Sci_finetune.csv\", index=False)\n",
        "print(\" Predictions saved to Filtered_acl2022_Sci_finetune.csv\")"
      ]
    },
    {
      "cell_type": "markdown",
      "id": "1505777b-e0eb-48b4-8873-23dbffe221ab",
      "metadata": {
        "id": "1505777b-e0eb-48b4-8873-23dbffe221ab"
      },
      "source": [
        "## Zeroshot SciBert"
      ]
    },
    {
      "cell_type": "code",
      "execution_count": null,
      "id": "b8b5b2d8-5b22-4168-9720-885bb64c81c5",
      "metadata": {
        "id": "b8b5b2d8-5b22-4168-9720-885bb64c81c5"
      },
      "outputs": [],
      "source": [
        "import torch\n",
        "import pandas as pd\n",
        "import gc\n",
        "import os\n",
        "from transformers import AutoTokenizer, AutoModelForSequenceClassification\n",
        "from torch.nn.functional import softmax\n",
        "from tqdm import tqdm\n",
        "\n",
        "device = torch.device(\"cuda\" if torch.cuda.is_available() else \"cpu\")\n",
        "print(f\"Using device: {device}\")\n",
        "\n",
        "model_name = \"allenai/scibert_scivocab_cased\"\n",
        "tokenizer = AutoTokenizer.from_pretrained(model_name)\n",
        "model = AutoModelForSequenceClassification.from_pretrained(model_name)\n",
        "model.to(device)\n",
        "model.eval()\n",
        "\n",
        "candidate_labels = [\"positive\", \"negative\"]\n",
        "\n",
        "INPUT_CSV = \"Test_data2020.csv\"\n",
        "OUTPUT_CSV = \"Test_data2020_sci_bert_zeroshot.csv\"\n",
        "CHECKPOINT_EVERY = 40\n",
        "\n",
        "df = pd.read_csv(INPUT_CSV)\n",
        "if os.path.exists(OUTPUT_CSV):\n",
        "    df_output = pd.read_csv(OUTPUT_CSV)\n",
        "    start_idx = len(df_output)\n",
        "    print(f\" Resuming from row {start_idx}\")\n",
        "else:\n",
        "    df_output = pd.DataFrame(columns=df.columns.tolist() + [\"predicted_label\"])\n",
        "    start_idx = 0\n",
        "\n",
        "def build_hypothesis(label):\n",
        "    return (\n",
        "        f\"This paragraph has {label} relation to the abstract. \"\n",
        "        \"Here positive relation means relevant to the abstract and negative relation means irrelevant to the abstract.\"\n",
        "    )\n",
        "\n",
        "def zero_shot_predict(abstract, paragraph):\n",
        "    premise = f\"Abstract: {abstract}\\n\\nParagraph: {paragraph}\"\n",
        "    label_scores = {}\n",
        "\n",
        "    for label in candidate_labels:\n",
        "        hypothesis = build_hypothesis(label)\n",
        "        try:\n",
        "            inputs = tokenizer(\n",
        "                premise,\n",
        "                hypothesis,\n",
        "                return_tensors=\"pt\",\n",
        "                truncation=True,\n",
        "                padding=True,\n",
        "                max_length=512\n",
        "            )\n",
        "            inputs = {k: v.to(device) for k, v in inputs.items()}\n",
        "            with torch.no_grad():\n",
        "                outputs = model(**inputs)\n",
        "                logits = outputs.logits\n",
        "                probs = softmax(logits, dim=1).squeeze()\n",
        "                label_scores[label] = probs[1].item()\n",
        "            del inputs, outputs, logits, probs\n",
        "            torch.cuda.empty_cache()\n",
        "            gc.collect()\n",
        "        except Exception as e:\n",
        "            print(f\" Error with label '{label}': {e}\")\n",
        "            return \"error\"\n",
        "\n",
        "    return max(label_scores, key=label_scores.get)\n",
        "\n",
        "for idx in tqdm(range(start_idx, len(df))):\n",
        "    row = df.iloc[idx]\n",
        "    try:\n",
        "        prediction = zero_shot_predict(row[\"Abstract\"], row[\"Paragraph\"])\n",
        "    except Exception as e:\n",
        "        print(f\" Row {idx} failed: {e}\")\n",
        "        prediction = \"error\"\n",
        "    row[\"predicted_label\"] = prediction\n",
        "    df_output = pd.concat([df_output, pd.DataFrame([row])], ignore_index=True)\n",
        "\n",
        "    if idx % CHECKPOINT_EVERY == 0 or idx == len(df) - 1:\n",
        "        df_output.to_csv(OUTPUT_CSV, index=False)\n",
        "        print(f\" Saved progress at row {idx}\")\n",
        "        torch.cuda.empty_cache()\n",
        "        gc.collect()\n"
      ]
    },
    {
      "cell_type": "markdown",
      "id": "89fe7693-c3ca-4e99-bead-a2487eadef21",
      "metadata": {
        "id": "89fe7693-c3ca-4e99-bead-a2487eadef21"
      },
      "source": [
        "## Majority Voting"
      ]
    },
    {
      "cell_type": "markdown",
      "id": "de4dc96e-5a65-4fd9-8766-950fae830cae",
      "metadata": {
        "id": "de4dc96e-5a65-4fd9-8766-950fae830cae"
      },
      "source": [
        "## 2020"
      ]
    },
    {
      "cell_type": "code",
      "execution_count": null,
      "id": "63193af1-f34c-40eb-b91d-9a7748930b6a",
      "metadata": {
        "id": "63193af1-f34c-40eb-b91d-9a7748930b6a"
      },
      "outputs": [],
      "source": [
        "import pandas as pd\n",
        "df_lf_fine_20 = pd.read_csv(r\"/XXXX/ACL/CSVs/Labeled_by_Models/Longformer/Fine-tuned_longformer/2020/Test_data2020_labeled.csv\",encoding=\"ISO-8859-1\")\n",
        "df_lf_few_20 = pd.read_csv(r\"/XXXX/ACL/CSVs/Labeled_by_Models/Longformer/Few_shot_longformer/2020/Test_data2020_fewshot.csv\",encoding=\"ISO-8859-1\")\n",
        "df_lf_zero_20 = pd.read_csv(r\"/XXXX/ACL/CSVs/Labeled_by_Models/Longformer/Zero_shot_longformer/2020/Test_data2020_zeroshot.csv\",encoding=\"ISO-8859-1\")\n",
        "df_sb_fine_20 = pd.read_csv(r\"/XXXX/ACL/CSVs/Labeled_by_Models/SciBert/Fine-tuned SciBert/2020/Test_data2020_Sci_finetune.csv\",encoding=\"ISO-8859-1\")\n",
        "df_sb_zero_20 = pd.read_csv(r\"/XXXX/ACL/CSVs/Labeled_by_Models/SciBert/Zer-shot-SciBert/2020/Test_data2020_sci_bert_zeroshot.csv\",encoding=\"ISO-8859-1\")\n"
      ]
    },
    {
      "cell_type": "code",
      "execution_count": null,
      "id": "00f3f4cf-2c40-47e3-81b3-37ec1c5782e6",
      "metadata": {
        "id": "00f3f4cf-2c40-47e3-81b3-37ec1c5782e6"
      },
      "outputs": [],
      "source": [
        "lf_fine2020 = df_lf_fine_20[\"predicted_label_text\"].tolist()\n",
        "lf_few2020 = df_lf_few_20[\"predicted_label\"].tolist()\n",
        "lf_zero2020 = df_lf_zero_20[\"predicted_label\"].tolist()\n",
        "sb_fine2020 = df_sb_fine_20[\"predicted_label_text\"].tolist()\n",
        "sb_zero2020 = df_sb_zero_20[\"predicted_label\"].tolist()"
      ]
    },
    {
      "cell_type": "code",
      "execution_count": null,
      "id": "58990b63-e0ab-44f8-88ac-1d391d90187c",
      "metadata": {
        "id": "58990b63-e0ab-44f8-88ac-1d391d90187c",
        "outputId": "28a2e056-31c2-41bf-c700-dc0c9c5009e9"
      },
      "outputs": [
        {
          "name": "stdout",
          "output_type": "stream",
          "text": [
            "Average Consensus: 75%\n"
          ]
        }
      ],
      "source": [
        "import numpy as np\n",
        "from collections import Counter\n",
        "\n",
        "model_predictions = [\n",
        "    lf_fine2020 ,\n",
        "    lf_few2020 ,\n",
        "    lf_zero2020 ,\n",
        "    sb_fine2020 ,\n",
        "    sb_zero2020\n",
        "]\n",
        "\n",
        "predictions = np.array(model_predictions)\n",
        "\n",
        "final_predictions = []\n",
        "consensus_scores = []\n",
        "\n",
        "for i in range(predictions.shape[1]):\n",
        "    votes = predictions[:, i]\n",
        "    majority_vote = Counter(votes).most_common(1)[0][0]\n",
        "    final_predictions.append(majority_vote)\n",
        "\n",
        "    agreement = np.mean(votes == majority_vote)\n",
        "    consensus_scores.append(agreement)\n",
        "\n",
        "print(\"Average Consensus:\", f\"{np.mean(consensus_scores):.0%}\")"
      ]
    },
    {
      "cell_type": "code",
      "execution_count": null,
      "id": "f4444754-d8a6-44c6-a1e6-d0a37deb3baf",
      "metadata": {
        "id": "f4444754-d8a6-44c6-a1e6-d0a37deb3baf",
        "outputId": "3c680680-6ea5-42be-ff38-c96097a114ba"
      },
      "outputs": [
        {
          "name": "stdout",
          "output_type": "stream",
          "text": [
            "=== Consensus Distribution ===\n",
            "Min Agreement: 60%\n",
            "Max Agreement: 100%\n",
            "Mean Agreement: 75%\n",
            "Median Agreement: 80%\n"
          ]
        },
        {
          "data": {
            "image/png": "[encoded data removed]",
            "text/plain": [
              "<Figure size 800x400 with 1 Axes>"
            ]
          },
          "metadata": {},
          "output_type": "display_data"
        }
      ],
      "source": [
        "import numpy as np\n",
        "from collections import Counter\n",
        "import matplotlib.pyplot as plt\n",
        "\n",
        "model_predictions = [\n",
        "    lf_fine2020 ,\n",
        "    lf_few2020 ,\n",
        "    lf_zero2020 ,\n",
        "    sb_fine2020 ,\n",
        "    sb_zero2020\n",
        "]\n",
        "\n",
        "predictions = np.array(model_predictions)\n",
        "\n",
        "consensus_scores = []\n",
        "for i in range(predictions.shape[1]):\n",
        "    votes = predictions[:, i]\n",
        "    majority_vote = Counter(votes).most_common(1)[0][0]\n",
        "    agreement = np.mean(votes == majority_vote)\n",
        "    consensus_scores.append(agreement)\n",
        "\n",
        "consensus_percent = [score * 100 for score in consensus_scores]\n",
        "\n",
        "print(\"=== Consensus Distribution ===\")\n",
        "print(f\"Min Agreement: {np.min(consensus_percent):.0f}%\")\n",
        "print(f\"Max Agreement: {np.max(consensus_percent):.0f}%\")\n",
        "print(f\"Mean Agreement: {np.mean(consensus_percent):.0f}%\")\n",
        "print(f\"Median Agreement: {np.median(consensus_percent):.0f}%\")\n",
        "\n",
        "plt.figure(figsize=(8, 4))\n",
        "plt.hist(consensus_percent, bins=5, edgecolor='black', range=(0, 100))\n",
        "plt.title(\"Distribution of Consensus Scores (Year 2020)\")\n",
        "plt.xlabel(\"Agreement (%)\")\n",
        "plt.ylabel(\"Number of Predictions\")\n",
        "plt.xticks(np.arange(0, 101, 20))\n",
        "plt.grid(axis='y', alpha=0.5)\n",
        "plt.show()"
      ]
    },
    {
      "cell_type": "code",
      "execution_count": null,
      "id": "4fee381d-9b97-473a-a256-435109c2eca1",
      "metadata": {
        "id": "4fee381d-9b97-473a-a256-435109c2eca1"
      },
      "outputs": [],
      "source": [
        "d20=df_lf_fine_20[[\"Title\", \"Abstract\",\"Paragraph\"]].copy()\n",
        "d20[\"Majority_Label\"]=final_predictions"
      ]
    },
    {
      "cell_type": "code",
      "execution_count": null,
      "id": "8286b12b-a76a-4e07-8b35-b1079f872b6d",
      "metadata": {
        "id": "8286b12b-a76a-4e07-8b35-b1079f872b6d"
      },
      "outputs": [],
      "source": [
        "d20.to_csv(\"2020_Majority_Labeled.csv\")"
      ]
    },
    {
      "cell_type": "markdown",
      "id": "93c5beb7-097d-4258-9086-2f0312bd8343",
      "metadata": {
        "id": "93c5beb7-097d-4258-9086-2f0312bd8343"
      },
      "source": [
        "## 2021"
      ]
    },
    {
      "cell_type": "code",
      "execution_count": null,
      "id": "6e1f34da-8365-4047-b2d8-aab26640bc35",
      "metadata": {
        "id": "6e1f34da-8365-4047-b2d8-aab26640bc35"
      },
      "outputs": [],
      "source": [
        "import pandas as pd\n",
        "df_lf_fine_21 = pd.read_csv(r\"/XXXX/ACL/CSVs/Labeled_by_Models/Longformer/Fine-tuned_longformer/2021/Filtered_acl2021_labeled.csv\",encoding=\"ISO-8859-1\")\n",
        "df_lf_few_21 = pd.read_csv(r\"/XXXX/ACL/CSVs/Labeled_by_Models/Longformer/Few_shot_longformer/2021/Filtered_acl2021_fewshot.csv\",encoding=\"ISO-8859-1\")\n",
        "df_lf_zero_21 = pd.read_csv(r\"/XXXX/ACL/CSVs/Labeled_by_Models/Longformer/Zero_shot_longformer/2021/Filter_acl2021_zeroshot.csv\",encoding=\"ISO-8859-1\")\n",
        "df_sb_fine_21 = pd.read_csv(r\"/XXXX/ACL/CSVs/Labeled_by_Models/SciBert/Fine-tuned SciBert/2021/Filtered_acl2021_Sci_finetune.csv\",encoding=\"ISO-8859-1\")\n",
        "df_sb_zero_21 = pd.read_csv(r\"/XXXX/ACL/CSVs/Labeled_by_Models/SciBert/Zer-shot-SciBert/2021/Filtered_acl2021_scibert_zeroshot.csv\",encoding=\"ISO-8859-1\")\n"
      ]
    },
    {
      "cell_type": "code",
      "execution_count": null,
      "id": "329cb4e0-2075-4a5b-828f-6161d0452e21",
      "metadata": {
        "id": "329cb4e0-2075-4a5b-828f-6161d0452e21"
      },
      "outputs": [],
      "source": [
        "lf_fine2021 = df_lf_fine_21[\"predicted_label_text\"].tolist()\n",
        "lf_few2021 = df_lf_few_21[\"predicted_label\"].tolist()\n",
        "lf_zero2021 = df_lf_zero_21[\"predicted_label\"].tolist()\n",
        "sb_fine2021 = df_sb_fine_21[\"predicted_label_text\"].tolist()\n",
        "sb_zero2021 = df_sb_zero_21[\"predicted_label\"].tolist()"
      ]
    },
    {
      "cell_type": "code",
      "execution_count": null,
      "id": "1a833708-b51e-4a27-a8cc-9f8a489cdb8f",
      "metadata": {
        "id": "1a833708-b51e-4a27-a8cc-9f8a489cdb8f",
        "outputId": "97e228bd-de4d-4450-b679-2518048973d5"
      },
      "outputs": [
        {
          "name": "stdout",
          "output_type": "stream",
          "text": [
            "Average Consensus: 73%\n"
          ]
        }
      ],
      "source": [
        "import numpy as np\n",
        "from collections import Counter\n",
        "\n",
        "model_predictions = [\n",
        "    lf_fine2021 ,\n",
        "    lf_few2021 ,\n",
        "    lf_zero2021 ,\n",
        "    sb_fine2021 ,\n",
        "    sb_zero2021\n",
        "]\n",
        "\n",
        "predictions = np.array(model_predictions)\n",
        "\n",
        "final_predictions = []\n",
        "consensus_scores = []\n",
        "\n",
        "for i in range(predictions.shape[1]):\n",
        "    votes = predictions[:, i]\n",
        "    majority_vote = Counter(votes).most_common(1)[0][0]\n",
        "    final_predictions.append(majority_vote)\n",
        "\n",
        "    agreement = np.mean(votes == majority_vote)\n",
        "    consensus_scores.append(agreement)\n",
        "\n",
        "print(\"Average Consensus:\", f\"{np.mean(consensus_scores):.0%}\")"
      ]
    },
    {
      "cell_type": "code",
      "execution_count": null,
      "id": "61777dfd-c13f-40bd-8a7d-725203ee4b86",
      "metadata": {
        "id": "61777dfd-c13f-40bd-8a7d-725203ee4b86",
        "outputId": "0cd3d5e8-7db8-4d03-ed2f-0285e99aeef3"
      },
      "outputs": [
        {
          "name": "stdout",
          "output_type": "stream",
          "text": [
            "=== Consensus Distribution ===\n",
            "Min Agreement: 60%\n",
            "Max Agreement: 100%\n",
            "Mean Agreement: 73%\n",
            "Median Agreement: 80%\n"
          ]
        },
        {
          "data": {
            "image/png": "[encoded data removed]",
            "text/plain": [
              "<Figure size 800x400 with 1 Axes>"
            ]
          },
          "metadata": {},
          "output_type": "display_data"
        }
      ],
      "source": [
        "import numpy as np\n",
        "from collections import Counter\n",
        "import matplotlib.pyplot as plt\n",
        "\n",
        "model_predictions = [\n",
        "    lf_fine2021 ,\n",
        "    lf_few2021 ,\n",
        "    lf_zero2021 ,\n",
        "    sb_fine2021 ,\n",
        "    sb_zero2021\n",
        "]\n",
        "\n",
        "predictions = np.array(model_predictions)\n",
        "\n",
        "consensus_scores = []\n",
        "for i in range(predictions.shape[1]):\n",
        "    votes = predictions[:, i]\n",
        "    majority_vote = Counter(votes).most_common(1)[0][0]\n",
        "    agreement = np.mean(votes == majority_vote)\n",
        "    consensus_scores.append(agreement)\n",
        "\n",
        "consensus_percent = [score * 100 for score in consensus_scores]\n",
        "\n",
        "print(\"=== Consensus Distribution ===\")\n",
        "print(f\"Min Agreement: {np.min(consensus_percent):.0f}%\")\n",
        "print(f\"Max Agreement: {np.max(consensus_percent):.0f}%\")\n",
        "print(f\"Mean Agreement: {np.mean(consensus_percent):.0f}%\")\n",
        "print(f\"Median Agreement: {np.median(consensus_percent):.0f}%\")\n",
        "\n",
        "plt.figure(figsize=(8, 4))\n",
        "plt.hist(consensus_percent, bins=5, edgecolor='black', range=(0, 100))\n",
        "plt.title(\"Distribution of Consensus Scores (Year 2021)\")\n",
        "plt.xlabel(\"Agreement (%)\")\n",
        "plt.ylabel(\"Number of Predictions\")\n",
        "plt.xticks(np.arange(0, 101, 20))\n",
        "plt.grid(axis='y', alpha=0.5)\n",
        "plt.show()"
      ]
    },
    {
      "cell_type": "code",
      "execution_count": null,
      "id": "1d813e3f-c000-4107-b211-29b57e93603d",
      "metadata": {
        "id": "1d813e3f-c000-4107-b211-29b57e93603d"
      },
      "outputs": [],
      "source": [
        "d21=df_lf_fine_21[[\"Title\", \"Abstract\",\"Paragraph\"]].copy()\n",
        "d21[\"Majority_Label\"]=final_predictions"
      ]
    },
    {
      "cell_type": "code",
      "execution_count": null,
      "id": "5468d0a4-77d3-4809-a16d-6bfffc13d19e",
      "metadata": {
        "id": "5468d0a4-77d3-4809-a16d-6bfffc13d19e"
      },
      "outputs": [],
      "source": [
        "d21.to_csv(\"2021_Majority_Labeled.csv\")"
      ]
    },
    {
      "cell_type": "markdown",
      "id": "ce8adb23-d028-4893-94d0-e1112cb5d31e",
      "metadata": {
        "id": "ce8adb23-d028-4893-94d0-e1112cb5d31e"
      },
      "source": [
        "## 2022"
      ]
    },
    {
      "cell_type": "code",
      "execution_count": null,
      "id": "06b9fa73-3c08-4e71-a155-4eff6c94e871",
      "metadata": {
        "id": "06b9fa73-3c08-4e71-a155-4eff6c94e871"
      },
      "outputs": [],
      "source": [
        "import pandas as pd\n",
        "df_lf_fine_22 = pd.read_csv(r\"/XXXX/ACL/CSVs/Labeled_by_Models/Longformer/Fine-tuned_longformer/2022/Filtered_acl2022_labeled.csv\",encoding=\"ISO-8859-1\")\n",
        "df_lf_few_22 = pd.read_csv(r\"/XXXX/ACL/CSVs/Labeled_by_Models/Longformer/Few_shot_longformer/2022/Filtered_acl2022_fewshot.csv\",encoding=\"ISO-8859-1\")\n",
        "df_lf_zero_22 = pd.read_csv(r\"/XXXX/ACL/CSVs/Labeled_by_Models/Longformer/Zero_shot_longformer/2022/Filter_acl2022_zeroshot.csv\",encoding=\"ISO-8859-1\")\n",
        "df_sb_fine_22 = pd.read_csv(r\"/XXXX/ACL/CSVs/Labeled_by_Models/SciBert/Fine-tuned SciBert/2022/Filtered_acl2022_Sci_finetune.csv\",encoding=\"ISO-8859-1\")\n",
        "df_sb_zero_22 = pd.read_csv(r\"/XXXX/ACL/CSVs/Labeled_by_Models/SciBert/Zer-shot-SciBert/2022/Filtered_acl2022_scibert_zeroshot.csv\",encoding=\"ISO-8859-1\")\n"
      ]
    },
    {
      "cell_type": "code",
      "execution_count": null,
      "id": "6f424e1d-d3bd-4ffa-b987-4cfab2c33381",
      "metadata": {
        "id": "6f424e1d-d3bd-4ffa-b987-4cfab2c33381"
      },
      "outputs": [],
      "source": [
        "lf_fine2022 = df_lf_fine_22[\"predicted_label_text\"].tolist()\n",
        "lf_few2022 = df_lf_few_22[\"predicted_label\"].tolist()\n",
        "lf_zero2022 = df_lf_zero_22[\"predicted_label\"].tolist()\n",
        "sb_fine2022 = df_sb_fine_22[\"predicted_label_text\"].tolist()\n",
        "sb_zero2022 = df_sb_zero_22[\"predicted_label\"].tolist()"
      ]
    },
    {
      "cell_type": "code",
      "execution_count": null,
      "id": "4ed61e37-4a3d-4b2f-8ffe-a12c8bad8ca2",
      "metadata": {
        "id": "4ed61e37-4a3d-4b2f-8ffe-a12c8bad8ca2",
        "outputId": "06ed9efa-3329-4426-850a-88367818d0f7"
      },
      "outputs": [
        {
          "name": "stdout",
          "output_type": "stream",
          "text": [
            "Average Consensus: 74%\n"
          ]
        }
      ],
      "source": [
        "import numpy as np\n",
        "from collections import Counter\n",
        "\n",
        "model_predictions = [\n",
        "    lf_fine2022 ,\n",
        "    lf_few2022 ,\n",
        "    lf_zero2022 ,\n",
        "    sb_fine2022 ,\n",
        "    sb_zero2022\n",
        "]\n",
        "predictions = np.array(model_predictions)\n",
        "\n",
        "# Majority voting\n",
        "final_predictions = []\n",
        "consensus_scores = []\n",
        "\n",
        "for i in range(predictions.shape[1]):\n",
        "    votes = predictions[:, i]\n",
        "    majority_vote = Counter(votes).most_common(1)[0][0]\n",
        "    final_predictions.append(majority_vote)\n",
        "\n",
        "    agreement = np.mean(votes == majority_vote)\n",
        "    consensus_scores.append(agreement)\n",
        "\n",
        "print(\"Average Consensus:\", f\"{np.mean(consensus_scores):.0%}\")"
      ]
    },
    {
      "cell_type": "code",
      "execution_count": null,
      "id": "7f094407-06e7-4284-8269-df0cbd5eb734",
      "metadata": {
        "id": "7f094407-06e7-4284-8269-df0cbd5eb734",
        "outputId": "8938ad43-444a-4dc9-afeb-2ab46ea64055"
      },
      "outputs": [
        {
          "name": "stdout",
          "output_type": "stream",
          "text": [
            "=== Consensus Distribution ===\n",
            "Min Agreement: 60%\n",
            "Max Agreement: 100%\n",
            "Mean Agreement: 74%\n",
            "Median Agreement: 80%\n"
          ]
        },
        {
          "data": {
            "image/png": "[encoded data removed]",
            "text/plain": [
              "<Figure size 800x400 with 1 Axes>"
            ]
          },
          "metadata": {},
          "output_type": "display_data"
        }
      ],
      "source": [
        "import numpy as np\n",
        "from collections import Counter\n",
        "import matplotlib.pyplot as plt\n",
        "\n",
        "model_predictions = [\n",
        "    lf_fine2022 ,\n",
        "    lf_few2022 ,\n",
        "    lf_zero2022 ,\n",
        "    sb_fine2022 ,\n",
        "    sb_zero2022\n",
        "]\n",
        "\n",
        "predictions = np.array(model_predictions)\n",
        "\n",
        "consensus_scores = []\n",
        "for i in range(predictions.shape[1]):\n",
        "    votes = predictions[:, i]\n",
        "    majority_vote = Counter(votes).most_common(1)[0][0]\n",
        "    agreement = np.mean(votes == majority_vote)\n",
        "    consensus_scores.append(agreement)\n",
        "\n",
        "consensus_percent = [score * 100 for score in consensus_scores]\n",
        "\n",
        "print(\"=== Consensus Distribution ===\")\n",
        "print(f\"Min Agreement: {np.min(consensus_percent):.0f}%\")\n",
        "print(f\"Max Agreement: {np.max(consensus_percent):.0f}%\")\n",
        "print(f\"Mean Agreement: {np.mean(consensus_percent):.0f}%\")\n",
        "print(f\"Median Agreement: {np.median(consensus_percent):.0f}%\")\n",
        "\n",
        "plt.figure(figsize=(8, 4))\n",
        "plt.hist(consensus_percent, bins=5, edgecolor='black', range=(0, 100))\n",
        "plt.title(\"Distribution of Consensus Scores (Year 2022)\")\n",
        "plt.xlabel(\"Agreement (%)\")\n",
        "plt.ylabel(\"Number of Predictions\")\n",
        "plt.xticks(np.arange(0, 101, 20))\n",
        "plt.grid(axis='y', alpha=0.5)\n",
        "plt.show()"
      ]
    },
    {
      "cell_type": "code",
      "execution_count": null,
      "id": "a8e67fc4-d4dd-47d2-b5a4-5310efb96d1f",
      "metadata": {
        "id": "a8e67fc4-d4dd-47d2-b5a4-5310efb96d1f"
      },
      "outputs": [],
      "source": [
        "d22=df_lf_fine_22[[\"Title\", \"Abstract\",\"Paragraph\"]].copy()\n",
        "d22[\"Majority_Label\"]=final_predictions"
      ]
    },
    {
      "cell_type": "code",
      "execution_count": null,
      "id": "e3bbd92a-9fa3-4a41-99d5-06cba5dc43df",
      "metadata": {
        "id": "e3bbd92a-9fa3-4a41-99d5-06cba5dc43df"
      },
      "outputs": [],
      "source": [
        "d22.to_csv(\"2022_Majority_Labeled.csv\")"
      ]
    },
    {
      "cell_type": "markdown",
      "id": "bb08c29a-4c9a-4224-90ac-fae94491afa7",
      "metadata": {
        "id": "bb08c29a-4c9a-4224-90ac-fae94491afa7"
      },
      "source": [
        "## 2023"
      ]
    },
    {
      "cell_type": "code",
      "execution_count": null,
      "id": "f287b565-09b8-4b6e-8e8e-c0aafc6d5fc2",
      "metadata": {
        "id": "f287b565-09b8-4b6e-8e8e-c0aafc6d5fc2"
      },
      "outputs": [],
      "source": [
        "import pandas as pd\n",
        "df_lf_fine_23 = pd.read_csv(r\"/XXXX/ACL/CSVs/Labeled_by_Models/Longformer/Fine-tuned_longformer/2023/Filtered_acl2023_labeled.csv\",encoding=\"ISO-8859-1\")\n",
        "df_lf_few_23 = pd.read_csv(r\"/XXXX/ACL/CSVs/Labeled_by_Models/Longformer/Few_shot_longformer/2023/Filtered_acl2023_fewshot.csv\",encoding=\"ISO-8859-1\")\n",
        "df_lf_zero_23 = pd.read_csv(r\"/XXXX/ACL/CSVs/Labeled_by_Models/Longformer/Zero_shot_longformer/2023/Filtered_acl2023_zeroshot.csv\",encoding=\"ISO-8859-1\")\n",
        "df_sb_fine_23 = pd.read_csv(r\"/XXXX/ACL/CSVs/Labeled_by_Models/SciBert/Fine-tuned SciBert/2023/Filtered_acl2023_Sci_finetune.csv\",encoding=\"ISO-8859-1\")\n",
        "df_sb_zero_23 = pd.read_csv(r\"/XXXX/ACL/CSVs/Labeled_by_Models/SciBert/Zer-shot-SciBert/2023/Filtered_acl2023_scibert_zeroshot.csv\",encoding=\"ISO-8859-1\")\n"
      ]
    },
    {
      "cell_type": "code",
      "execution_count": null,
      "id": "b99f566a-15e1-4dfd-8bff-9d0fe582084e",
      "metadata": {
        "id": "b99f566a-15e1-4dfd-8bff-9d0fe582084e"
      },
      "outputs": [],
      "source": [
        "lf_fine2023 = df_lf_fine_23[\"predicted_label_text\"].tolist()\n",
        "lf_few2023 = df_lf_few_23[\"predicted_label\"].tolist()\n",
        "lf_zero2023 = df_lf_zero_23[\"predicted_label\"].tolist()\n",
        "sb_fine2023 = df_sb_fine_23[\"predicted_label_text\"].tolist()\n",
        "sb_zero2023 = df_sb_zero_23[\"predicted_label\"].tolist()"
      ]
    },
    {
      "cell_type": "code",
      "execution_count": null,
      "id": "00fe8175-d953-490a-81a5-75678abb1951",
      "metadata": {
        "id": "00fe8175-d953-490a-81a5-75678abb1951",
        "outputId": "700ca2ee-d85d-42b4-e882-9b80f825f8d9"
      },
      "outputs": [
        {
          "name": "stdout",
          "output_type": "stream",
          "text": [
            "Average Consensus: 68%\n"
          ]
        }
      ],
      "source": [
        "import numpy as np\n",
        "from collections import Counter\n",
        "\n",
        "model_predictions = [\n",
        "    lf_fine2023 ,\n",
        "    lf_few2023 ,\n",
        "    lf_zero2023 ,\n",
        "    sb_fine2023 ,\n",
        "    sb_zero2023\n",
        "]\n",
        "\n",
        "predictions = np.array(model_predictions)\n",
        "\n",
        "final_predictions = []\n",
        "consensus_scores = []\n",
        "\n",
        "for i in range(predictions.shape[1]):\n",
        "    votes = predictions[:, i]\n",
        "    majority_vote = Counter(votes).most_common(1)[0][0]\n",
        "    final_predictions.append(majority_vote)\n",
        "\n",
        "    agreement = np.mean(votes == majority_vote)\n",
        "    consensus_scores.append(agreement)\n",
        "print(\"Average Consensus:\", f\"{np.mean(consensus_scores):.0%}\")"
      ]
    },
    {
      "cell_type": "code",
      "execution_count": null,
      "id": "c23a2484-0dce-4f4c-871e-f3d4dee55882",
      "metadata": {
        "id": "c23a2484-0dce-4f4c-871e-f3d4dee55882",
        "outputId": "d6111f64-36aa-4149-fcb3-d09774da77d1"
      },
      "outputs": [
        {
          "name": "stdout",
          "output_type": "stream",
          "text": [
            "=== Consensus Distribution ===\n",
            "Min Agreement: 60%\n",
            "Max Agreement: 100%\n",
            "Mean Agreement: 68%\n",
            "Median Agreement: 60%\n"
          ]
        },
        {
          "data": {
            "image/png": "[encoded data removed]",
            "text/plain": [
              "<Figure size 800x400 with 1 Axes>"
            ]
          },
          "metadata": {},
          "output_type": "display_data"
        }
      ],
      "source": [
        "import numpy as np\n",
        "from collections import Counter\n",
        "import matplotlib.pyplot as plt\n",
        "\n",
        "model_predictions = [\n",
        "    lf_fine2023 ,\n",
        "    lf_few2023 ,\n",
        "    lf_zero2023 ,\n",
        "    sb_fine2023 ,\n",
        "    sb_zero2023\n",
        "]\n",
        "\n",
        "predictions = np.array(model_predictions)\n",
        "\n",
        "consensus_scores = []\n",
        "for i in range(predictions.shape[1]):\n",
        "    votes = predictions[:, i]\n",
        "    majority_vote = Counter(votes).most_common(1)[0][0]\n",
        "    agreement = np.mean(votes == majority_vote)\n",
        "    consensus_scores.append(agreement)\n",
        "\n",
        "consensus_percent = [score * 100 for score in consensus_scores]\n",
        "\n",
        "print(\"=== Consensus Distribution ===\")\n",
        "print(f\"Min Agreement: {np.min(consensus_percent):.0f}%\")\n",
        "print(f\"Max Agreement: {np.max(consensus_percent):.0f}%\")\n",
        "print(f\"Mean Agreement: {np.mean(consensus_percent):.0f}%\")\n",
        "print(f\"Median Agreement: {np.median(consensus_percent):.0f}%\")\n",
        "\n",
        "plt.figure(figsize=(8, 4))\n",
        "plt.hist(consensus_percent, bins=5, edgecolor='black', range=(0, 100))\n",
        "plt.title(\"Distribution of Consensus Scores (Year 2023)\")\n",
        "plt.xlabel(\"Agreement (%)\")\n",
        "plt.ylabel(\"Number of Predictions\")\n",
        "plt.xticks(np.arange(0, 101, 20))\n",
        "plt.grid(axis='y', alpha=0.5)\n",
        "plt.show()"
      ]
    },
    {
      "cell_type": "code",
      "execution_count": null,
      "id": "684e9f33-966c-49db-9271-307887f484ba",
      "metadata": {
        "id": "684e9f33-966c-49db-9271-307887f484ba"
      },
      "outputs": [],
      "source": [
        "d23=df_lf_fine_23[[\"Title\", \"Abstract\",\"Paragraph\"]].copy()\n",
        "d23[\"Majority_Label\"]=final_predictions"
      ]
    },
    {
      "cell_type": "code",
      "execution_count": null,
      "id": "60daa2e4-559d-4991-a6e3-0df6c5381684",
      "metadata": {
        "id": "60daa2e4-559d-4991-a6e3-0df6c5381684"
      },
      "outputs": [],
      "source": [
        "d23.to_csv(\"2023_Majority_Labeled.csv\")"
      ]
    },
    {
      "cell_type": "markdown",
      "id": "a3f8eeea-cdbc-417e-a95b-67b5300e2451",
      "metadata": {
        "id": "a3f8eeea-cdbc-417e-a95b-67b5300e2451"
      },
      "source": [
        "## 2024"
      ]
    },
    {
      "cell_type": "code",
      "execution_count": null,
      "id": "2c9db955-5c2c-4ab9-ac83-b09efae85ad3",
      "metadata": {
        "id": "2c9db955-5c2c-4ab9-ac83-b09efae85ad3"
      },
      "outputs": [],
      "source": [
        "import pandas as pd\n",
        "df_lf_fine_24 = pd.read_csv(r\"/XXXX/ACL/CSVs/Labeled_by_Models/Longformer/Fine-tuned_longformer/2024/Filtered_acl2024_labeled.csv\",encoding=\"ISO-8859-1\")\n",
        "df_lf_few_24 = pd.read_csv(r\"/XXXX/ACL/CSVs/Labeled_by_Models/Longformer/Few_shot_longformer/2024/Filtered_acl2024_fewshot.csv\",encoding=\"ISO-8859-1\")\n",
        "df_lf_zero_24 = pd.read_csv(r\"/XXXX/ACL/CSVs/Labeled_by_Models/Longformer/Zero_shot_longformer/2024/Filtered_acl2024_zeroshot.csv\",encoding=\"ISO-8859-1\")\n",
        "df_sb_fine_24 = pd.read_csv(r\"/XXXX/ACL/CSVs/Labeled_by_Models/SciBert/Fine-tuned SciBert/2024/Filtered_acl2024_Sci_finetune.csv\",encoding=\"ISO-8859-1\")\n",
        "df_sb_zero_24 = pd.read_csv(r\"/XXXX/ACL/CSVs/Labeled_by_Models/SciBert/Zer-shot-SciBert/2024/Filtered_acl2024_scibert_zeroshot.csv\",encoding=\"ISO-8859-1\")\n"
      ]
    },
    {
      "cell_type": "code",
      "execution_count": null,
      "id": "f28291f9-75a9-48d1-981c-a157cca54da5",
      "metadata": {
        "id": "f28291f9-75a9-48d1-981c-a157cca54da5"
      },
      "outputs": [],
      "source": [
        "lf_fine2024 = df_lf_fine_24[\"predicted_label_text\"].tolist()\n",
        "lf_few2024 = df_lf_few_24[\"predicted_label\"].tolist()\n",
        "lf_zero2024 = df_lf_zero_24[\"predicted_label\"].tolist()\n",
        "sb_fine2024 = df_sb_fine_24[\"predicted_label_text\"].tolist()\n",
        "sb_zero2024 = df_sb_zero_24[\"predicted_label\"].tolist()"
      ]
    },
    {
      "cell_type": "code",
      "execution_count": null,
      "id": "9ee327b0-c6cf-4eb4-9470-449c9c8014f3",
      "metadata": {
        "id": "9ee327b0-c6cf-4eb4-9470-449c9c8014f3",
        "outputId": "6aca8433-a82b-4bcb-9c00-62deacc2d749"
      },
      "outputs": [
        {
          "name": "stdout",
          "output_type": "stream",
          "text": [
            "Average Consensus: 67%\n"
          ]
        }
      ],
      "source": [
        "import numpy as np\n",
        "from collections import Counter\n",
        "\n",
        "model_predictions = [\n",
        "    lf_fine2024 ,\n",
        "    lf_few2024 ,\n",
        "    lf_zero2024 ,\n",
        "    sb_fine2024 ,\n",
        "    sb_zero2024\n",
        "]\n",
        "\n",
        "predictions = np.array(model_predictions)\n",
        "\n",
        "final_predictions = []\n",
        "consensus_scores = []\n",
        "\n",
        "for i in range(predictions.shape[1]):\n",
        "    votes = predictions[:, i]\n",
        "    majority_vote = Counter(votes).most_common(1)[0][0]\n",
        "    final_predictions.append(majority_vote)\n",
        "\n",
        "    agreement = np.mean(votes == majority_vote)\n",
        "    consensus_scores.append(agreement)\n",
        "\n",
        "print(\"Average Consensus:\", f\"{np.mean(consensus_scores):.0%}\")"
      ]
    },
    {
      "cell_type": "code",
      "execution_count": null,
      "id": "b518d283-1792-4944-8c25-6bacee27a862",
      "metadata": {
        "id": "b518d283-1792-4944-8c25-6bacee27a862",
        "outputId": "d48e23cc-9a19-4813-d844-e9c7b66354a8"
      },
      "outputs": [
        {
          "name": "stdout",
          "output_type": "stream",
          "text": [
            "=== Consensus Distribution ===\n",
            "Min Agreement: 60%\n",
            "Max Agreement: 100%\n",
            "Mean Agreement: 67%\n",
            "Median Agreement: 60%\n"
          ]
        },
        {
          "data": {
            "image/png": "[encoded data removed]",
            "text/plain": [
              "<Figure size 800x400 with 1 Axes>"
            ]
          },
          "metadata": {},
          "output_type": "display_data"
        }
      ],
      "source": [
        "import numpy as np\n",
        "from collections import Counter\n",
        "import matplotlib.pyplot as plt\n",
        "\n",
        "model_predictions = [\n",
        "    lf_fine2024 ,\n",
        "    lf_few2024 ,\n",
        "    lf_zero2024 ,\n",
        "    sb_fine2024 ,\n",
        "    sb_zero2024\n",
        "]\n",
        "\n",
        "predictions = np.array(model_predictions)\n",
        "\n",
        "consensus_scores = []\n",
        "for i in range(predictions.shape[1]):\n",
        "    votes = predictions[:, i]\n",
        "    majority_vote = Counter(votes).most_common(1)[0][0]\n",
        "    agreement = np.mean(votes == majority_vote)\n",
        "    consensus_scores.append(agreement)\n",
        "\n",
        "consensus_percent = [score * 100 for score in consensus_scores]\n",
        "\n",
        "print(\"=== Consensus Distribution ===\")\n",
        "print(f\"Min Agreement: {np.min(consensus_percent):.0f}%\")\n",
        "print(f\"Max Agreement: {np.max(consensus_percent):.0f}%\")\n",
        "print(f\"Mean Agreement: {np.mean(consensus_percent):.0f}%\")\n",
        "print(f\"Median Agreement: {np.median(consensus_percent):.0f}%\")\n",
        "\n",
        "plt.figure(figsize=(8, 4))\n",
        "plt.hist(consensus_percent, bins=5, edgecolor='black', range=(0, 100))\n",
        "plt.title(\"Distribution of Consensus Scores (Year 2024)\")\n",
        "plt.xlabel(\"Agreement (%)\")\n",
        "plt.ylabel(\"Number of Predictions\")\n",
        "plt.xticks(np.arange(0, 101, 20))\n",
        "plt.grid(axis='y', alpha=0.5)\n",
        "plt.show()"
      ]
    },
    {
      "cell_type": "code",
      "execution_count": null,
      "id": "a9f1f33f-0a57-45e5-b8c5-594763e9b9ac",
      "metadata": {
        "id": "a9f1f33f-0a57-45e5-b8c5-594763e9b9ac"
      },
      "outputs": [],
      "source": [
        "d24=df_lf_fine_24[[\"Title\", \"Abstract\",\"Paragraph\"]].copy()\n",
        "d24[\"Majority_Label\"]=final_predictions"
      ]
    },
    {
      "cell_type": "code",
      "execution_count": null,
      "id": "752c4d14-2ba5-4eef-9388-8b070b3636cc",
      "metadata": {
        "id": "752c4d14-2ba5-4eef-9388-8b070b3636cc"
      },
      "outputs": [],
      "source": [
        "d24.to_csv(\"2024_Majority_Labeled.csv\")"
      ]
    },
    {
      "cell_type": "markdown",
      "id": "7c1468ac-580e-402c-bbe4-c0b1513d8eaf",
      "metadata": {
        "id": "7c1468ac-580e-402c-bbe4-c0b1513d8eaf"
      },
      "source": [
        "## All Year"
      ]
    },
    {
      "cell_type": "code",
      "execution_count": null,
      "id": "133c6ddf-2c67-43d1-a02f-061e591a0991",
      "metadata": {
        "id": "133c6ddf-2c67-43d1-a02f-061e591a0991"
      },
      "outputs": [],
      "source": [
        "lf_fine_all= lf_fine2020+lf_fine2021+lf_fine2022+lf_fine2023+lf_fine2024\n",
        "lf_few_all= lf_few2020+lf_few2021+lf_few2022+lf_few2023+lf_few2024\n",
        "lf_zero_all= lf_zero2020+lf_zero2021+lf_zero2022+lf_zero2023+lf_zero2024\n",
        "sb_fine_all= sb_fine2020+sb_fine2021+sb_fine2022+sb_fine2023+sb_fine2024\n",
        "sb_zero_all= sb_zero2020+sb_zero2021+sb_zero2022+sb_zero2023+sb_zero2024"
      ]
    },
    {
      "cell_type": "code",
      "execution_count": null,
      "id": "57386339-efd3-4152-bc02-5c19b831d03b",
      "metadata": {
        "id": "57386339-efd3-4152-bc02-5c19b831d03b",
        "outputId": "1fb8f73f-9aad-464a-bce9-a43bf3a9c463"
      },
      "outputs": [
        {
          "name": "stdout",
          "output_type": "stream",
          "text": [
            "=== Consensus Distribution ===\n",
            "Min Agreement: 60%\n",
            "Max Agreement: 100%\n",
            "Mean Agreement: 71%\n",
            "Median Agreement: 60%\n"
          ]
        },
        {
          "data": {
            "image/png": "[encoded data removed]",
            "text/plain": [
              "<Figure size 800x400 with 1 Axes>"
            ]
          },
          "metadata": {},
          "output_type": "display_data"
        }
      ],
      "source": [
        "import numpy as np\n",
        "from collections import Counter\n",
        "import matplotlib.pyplot as plt\n",
        "\n",
        "model_predictions = [\n",
        "    lf_fine_all ,\n",
        "    lf_few_all ,\n",
        "    lf_zero_all ,\n",
        "    sb_fine_all ,\n",
        "    sb_zero_all\n",
        "]\n",
        "\n",
        "predictions = np.array(model_predictions)\n",
        "\n",
        "consensus_scores = []\n",
        "for i in range(predictions.shape[1]):\n",
        "    votes = predictions[:, i]\n",
        "    majority_vote = Counter(votes).most_common(1)[0][0]\n",
        "    agreement = np.mean(votes == majority_vote)\n",
        "    consensus_scores.append(agreement)\n",
        "\n",
        "consensus_percent = [score * 100 for score in consensus_scores]\n",
        "\n",
        "print(\"=== Consensus Distribution ===\")\n",
        "print(f\"Min Agreement: {np.min(consensus_percent):.0f}%\")\n",
        "print(f\"Max Agreement: {np.max(consensus_percent):.0f}%\")\n",
        "print(f\"Mean Agreement: {np.mean(consensus_percent):.0f}%\")\n",
        "print(f\"Median Agreement: {np.median(consensus_percent):.0f}%\")\n",
        "\n",
        "plt.figure(figsize=(8, 4))\n",
        "plt.hist(consensus_percent, bins=5, edgecolor='black', range=(0, 100))\n",
        "plt.title(\"Distribution of Consensus Scores (Year 2020-2024)\")\n",
        "plt.xlabel(\"Agreement (%)\")\n",
        "plt.ylabel(\"Number of Predictions\")\n",
        "plt.xticks(np.arange(0, 101, 20))\n",
        "plt.grid(axis='y', alpha=0.5)\n",
        "plt.show()"
      ]
    }
  ],
  "metadata": {
    "kernelspec": {
      "display_name": "Python 3 (ipykernel)",
      "language": "python",
      "name": "python3"
    },
    "language_info": {
      "codemirror_mode": {
        "name": "ipython",
        "version": 3
      },
      "file_extension": ".py",
      "mimetype": "text/x-python",
      "name": "python",
      "nbconvert_exporter": "python",
      "pygments_lexer": "ipython3",
      "version": "3.10.14"
    },
    "colab": {
      "provenance": []
    }
  },
  "nbformat": 4,
  "nbformat_minor": 5
}
