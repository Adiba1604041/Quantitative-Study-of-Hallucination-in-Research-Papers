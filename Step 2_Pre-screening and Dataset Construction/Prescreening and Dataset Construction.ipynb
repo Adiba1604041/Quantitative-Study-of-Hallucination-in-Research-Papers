{
  "cells": [
    {
      "cell_type": "markdown",
      "id": "8b66eabd-35a3-4ba5-8849-6f0385f1b6d4",
      "metadata": {
        "id": "8b66eabd-35a3-4ba5-8849-6f0385f1b6d4"
      },
      "source": [
        "# **Step 2: Pre-sceening and Dataset Construction**"
      ]
    },
    {
      "cell_type": "markdown",
      "id": "3119cb08-bd13-431c-8b98-169edd41a090",
      "metadata": {
        "id": "3119cb08-bd13-431c-8b98-169edd41a090"
      },
      "source": [
        "### Using Subset of 2020 Data for noise injection"
      ]
    },
    {
      "cell_type": "code",
      "execution_count": null,
      "id": "fc20e38d-5171-45a9-99b9-aece16fca3a8",
      "metadata": {
        "id": "fc20e38d-5171-45a9-99b9-aece16fca3a8"
      },
      "outputs": [],
      "source": [
        "import pandas as pd\n",
        "df = pd.read_csv(r\"/XXXX/ACL/CSVs/2020/Filtered_acl2020.csv\",encoding=\"ISO-8859-1\")"
      ]
    },
    {
      "cell_type": "code",
      "execution_count": null,
      "id": "f00e2d4c-1345-4578-a7fd-637edc469a66",
      "metadata": {
        "id": "f00e2d4c-1345-4578-a7fd-637edc469a66",
        "outputId": "062aef6e-4128-4797-e9df-ec82a578cfc6"
      },
      "outputs": [
        {
          "name": "stdout",
          "output_type": "stream",
          "text": [
            "                                                 Title  \\\n",
            "127  More Diverse Dialogue Datasets via Diversity-I...   \n",
            "128  More Diverse Dialogue Datasets via Diversity-I...   \n",
            "129  More Diverse Dialogue Datasets via Diversity-I...   \n",
            "130  More Diverse Dialogue Datasets via Diversity-I...   \n",
            "131  More Diverse Dialogue Datasets via Diversity-I...   \n",
            "\n",
            "                                              Abstract  \\\n",
            "127  Automated generation of conversational dialogu...   \n",
            "128  Automated generation of conversational dialogu...   \n",
            "129  Automated generation of conversational dialogu...   \n",
            "130  Automated generation of conversational dialogu...   \n",
            "131  Automated generation of conversational dialogu...   \n",
            "\n",
            "                                             Paragraph  \n",
            "127  Proceedings of the 58th Annual Meeting of the ...  \n",
            "128  It is well-documented that neural dialogue mod...  \n",
            "129  Improving model diversity is an important goal...  \n",
            "130  Basu Roy et al. (2015) formulates the problem ...  \n",
            "131  An additional area related to our work is crow...  \n"
          ]
        }
      ],
      "source": [
        "import pandas as pd\n",
        "\n",
        "# Select 50 distinct titles\n",
        "distinct_titles = df['Title'].drop_duplicates().sample(n=50, random_state=42)\n",
        "\n",
        "# Filter the dataset to include only rows that match the 50 distinct titles\n",
        "fifty_df = df[df['Title'].isin(distinct_titles)]\n",
        "\n",
        "print(fifty_df.head())\n"
      ]
    },
    {
      "cell_type": "markdown",
      "id": "ee3037c2-5469-42aa-a3e9-8ac3bc173e04",
      "metadata": {
        "id": "ee3037c2-5469-42aa-a3e9-8ac3bc173e04"
      },
      "source": [
        "### 50 Papers taken for noise injection"
      ]
    },
    {
      "cell_type": "code",
      "execution_count": null,
      "id": "66d5ef7c-4cc2-4686-b562-5aa8f02c2f7b",
      "metadata": {
        "id": "66d5ef7c-4cc2-4686-b562-5aa8f02c2f7b"
      },
      "outputs": [],
      "source": [
        "folder_path = \"/XXXX/ACL/CSVs/2020\"\n",
        "\n",
        "# Ensure the folder exists before saving\n",
        "import os\n",
        "if not os.path.exists(folder_path):\n",
        "    os.makedirs(folder_path)  # Create the folder if it doesn't exist\n",
        "\n",
        "# Full path to save the CSV file\n",
        "csv_path = os.path.join(folder_path, \"Fifty_Papers.csv\")\n",
        "\n",
        "# Save DataFrame as CSV\n",
        "fifty_df.to_csv(csv_path, index=False)\n",
        "\n",
        "print(f\"CSV file saved at: {csv_path}\")"
      ]
    },
    {
      "cell_type": "code",
      "execution_count": null,
      "id": "8d4df437-b2b5-4276-b22d-1fa63a521437",
      "metadata": {
        "id": "8d4df437-b2b5-4276-b22d-1fa63a521437",
        "outputId": "1292faa6-4643-480d-d38f-78faa390eaa4"
      },
      "outputs": [
        {
          "data": {
            "text/plain": [
              "50"
            ]
          },
          "execution_count": 165,
          "metadata": {},
          "output_type": "execute_result"
        }
      ],
      "source": [
        "fifty_df['Title'].nunique()"
      ]
    },
    {
      "cell_type": "code",
      "execution_count": null,
      "id": "067363f5-132d-4176-9104-5f0f1565bb9e",
      "metadata": {
        "id": "067363f5-132d-4176-9104-5f0f1565bb9e",
        "outputId": "b402c1cc-73b2-44ae-e69a-b780554dc745"
      },
      "outputs": [
        {
          "data": {
            "text/plain": [
              "(748, 3)"
            ]
          },
          "execution_count": 180,
          "metadata": {},
          "output_type": "execute_result"
        }
      ],
      "source": [
        "fifty_df.shape"
      ]
    },
    {
      "cell_type": "markdown",
      "id": "c9804161-50cc-474d-8433-c0ef3f4655c6",
      "metadata": {
        "id": "c9804161-50cc-474d-8433-c0ef3f4655c6"
      },
      "source": [
        "### Remaining data will be used for further evaluation in 2020"
      ]
    },
    {
      "cell_type": "code",
      "execution_count": null,
      "id": "54efa811-b2c9-4d72-b6d9-48dce021e3da",
      "metadata": {
        "id": "54efa811-b2c9-4d72-b6d9-48dce021e3da",
        "outputId": "86834b4a-a86b-4bdb-b9e4-46d30ce3b139"
      },
      "outputs": [
        {
          "name": "stdout",
          "output_type": "stream",
          "text": [
            "                                            Title  \\\n",
            "0  Neural Generation of Dialogue Response Timings   \n",
            "1  Neural Generation of Dialogue Response Timings   \n",
            "2  Neural Generation of Dialogue Response Timings   \n",
            "3  Neural Generation of Dialogue Response Timings   \n",
            "4  Neural Generation of Dialogue Response Timings   \n",
            "\n",
            "                                            Abstract  \\\n",
            "0  The timings of spoken response offsets in huma...   \n",
            "1  The timings of spoken response offsets in huma...   \n",
            "2  The timings of spoken response offsets in huma...   \n",
            "3  The timings of spoken response offsets in huma...   \n",
            "4  The timings of spoken response offsets in huma...   \n",
            "\n",
            "                                           Paragraph  \n",
            "0  The components needed for the design of spoken...  \n",
            "1  Dataset Our dataset is extracted from the Swit...  \n",
            "2  Encoder The encoder of RTNet (shown in Fig. 3)...  \n",
            "3  Motivation A limitation of RTNet is that it ma...  \n",
            "4  Linguistic Features We use the word annotation...  \n"
          ]
        }
      ],
      "source": [
        "remaining_df = df[~df['Title'].isin(distinct_titles)]\n",
        "\n",
        "folder_path = \"/XXXX/ACL/CSVs/2020\"\n",
        "\n",
        "# Ensure the folder exists before saving\n",
        "import os\n",
        "if not os.path.exists(folder_path):\n",
        "    os.makedirs(folder_path)  # Create the folder if it doesn't exist\n",
        "\n",
        "csv_path = os.path.join(folder_path, \"Test_data2020.csv\")\n",
        "\n",
        "remaining_df.to_csv(csv_path, index=False)\n",
        "\n",
        "print(remaining_df.head())  # First few rows of remaining data"
      ]
    },
    {
      "cell_type": "code",
      "execution_count": null,
      "id": "8b7a67fa-04c9-4072-a3b6-8af0a79cf8ec",
      "metadata": {
        "id": "8b7a67fa-04c9-4072-a3b6-8af0a79cf8ec",
        "outputId": "31bb0652-2981-4bff-dd3e-606e4a51725a"
      },
      "outputs": [
        {
          "data": {
            "text/plain": [
              "399"
            ]
          },
          "execution_count": 167,
          "metadata": {},
          "output_type": "execute_result"
        }
      ],
      "source": [
        "remaining_df['Title'].nunique()"
      ]
    },
    {
      "cell_type": "markdown",
      "id": "543df47a-ad28-4c5d-a7b4-107ae2747c2b",
      "metadata": {
        "id": "543df47a-ad28-4c5d-a7b4-107ae2747c2b"
      },
      "source": [
        "### Calculate Paragraph Coherence"
      ]
    },
    {
      "cell_type": "code",
      "execution_count": null,
      "id": "2b00a16b-faa4-460c-90ad-30a1c6e5c808",
      "metadata": {
        "id": "2b00a16b-faa4-460c-90ad-30a1c6e5c808"
      },
      "outputs": [],
      "source": [
        "b_diff = pd.read_csv(r\"/XXXX/ACL/CSVs/2020/Fifty_Papers.csv\",encoding=\"ISO-8859-1\")"
      ]
    },
    {
      "cell_type": "code",
      "execution_count": null,
      "id": "8d9905b7-8138-47a5-8e47-3687435770dc",
      "metadata": {
        "id": "8d9905b7-8138-47a5-8e47-3687435770dc",
        "outputId": "74d7690b-668d-4ce9-f574-c1b75e9b63e3"
      },
      "outputs": [
        {
          "data": {
            "text/plain": [
              "(748, 3)"
            ]
          },
          "execution_count": 279,
          "metadata": {},
          "output_type": "execute_result"
        }
      ],
      "source": [
        "b_diff.shape"
      ]
    },
    {
      "cell_type": "code",
      "execution_count": null,
      "id": "36a4790f-a1df-46b4-af67-76ad32314b8b",
      "metadata": {
        "id": "36a4790f-a1df-46b4-af67-76ad32314b8b"
      },
      "outputs": [],
      "source": [
        "import pandas as pd\n",
        "from sentence_transformers import SentenceTransformer, util\n",
        "\n",
        "# Load the SBERT model\n",
        "MODEL_NAME = \"sentence-transformers/all-mpnet-base-v2\"\n",
        "model = SentenceTransformer(MODEL_NAME)\n",
        "\n",
        "# Define the coherence scoring function\n",
        "def get_coherence_scores(paragraph):\n",
        "\n",
        "    # Define individual prompts for each criterion\n",
        "    prompts = {\n",
        "        \"Contextual Consistency\": \"Does each sentence align with the preceding and following text?\",\n",
        "        \"Logical Flow\": \"Does the paragraph follow a structured, logical progression?\",\n",
        "        \"Relevance\": \"Do all sentences contribute meaningfully to the paragraph's main idea?\"\n",
        "    }\n",
        "\n",
        "    scores = {}\n",
        "\n",
        "    for criterion, prompt in prompts.items():\n",
        "        # Generate a specific prompt for each category\n",
        "        full_prompt = f\"{prompt}\\n\\nParagraph:\\n\\\"{paragraph}\\\"\\n\\nScore (0-1):\"\n",
        "\n",
        "        # Encode the prompt and paragraph\n",
        "        embeddings = model.encode([full_prompt, paragraph], convert_to_tensor=True)\n",
        "\n",
        "        # Compute cosine similarity score\n",
        "        similarity_score = util.pytorch_cos_sim(embeddings[0], embeddings[1]).item()\n",
        "\n",
        "        # Normalize score to range (0-1)\n",
        "        final_score = max(0, min(1, similarity_score))\n",
        "\n",
        "        # Store score\n",
        "        scores[criterion] = round(final_score, 4)\n",
        "\n",
        "    return scores\n",
        "\n",
        "def weighted_coherence(scores, weights={\"Contextual Consistency\": 0.3, \"Logical Flow\": 0.4, \"Relevance\": 0.3}):\n",
        "    return round(sum(scores[key] * weights[key] for key in scores), 4)\n",
        "\n",
        "\n",
        "# Define a function to apply the scoring to each paragraph\n",
        "def apply_coherence_scores(b_diff):\n",
        "    # Initialize lists to store the results\n",
        "    contextual_consistency = []\n",
        "    logical_flow = []\n",
        "    relevance = []\n",
        "    overall_coherence = []\n",
        "\n",
        "    # Loop through each paragraph in the dataframe\n",
        "    for index, row in b_diff.iterrows():\n",
        "        paragraph = row['Paragraph']\n",
        "\n",
        "        # Get coherence scores for the paragraph\n",
        "        scores = get_coherence_scores(paragraph)\n",
        "        overall_score = weighted_coherence(scores)\n",
        "\n",
        "        # Append results to lists\n",
        "        contextual_consistency.append(scores[\"Contextual Consistency\"])\n",
        "        logical_flow.append(scores[\"Logical Flow\"])\n",
        "        relevance.append(scores[\"Relevance\"])\n",
        "        overall_coherence.append(overall_score)\n",
        "\n",
        "    # Add the scores to the dataframe as new columns\n",
        "    b_diff['Contextual Consistency'] = contextual_consistency\n",
        "    b_diff['Logical Flow'] = logical_flow\n",
        "    b_diff['Relevance'] = relevance\n",
        "    b_diff['Overall Coherence'] = overall_coherence\n",
        "\n",
        "    return b_diff\n",
        "\n",
        "# Apply the coherence scoring to the DataFrame\n",
        "df_with_scores = apply_coherence_scores(b_diff)"
      ]
    },
    {
      "cell_type": "code",
      "execution_count": null,
      "id": "24db132a-23d1-483e-b653-0ba1ed54d597",
      "metadata": {
        "id": "24db132a-23d1-483e-b653-0ba1ed54d597",
        "outputId": "115526f6-e272-4470-ac83-f7ee25b74a84"
      },
      "outputs": [
        {
          "data": {
            "text/html": [
              "<div>\n",
              "<style scoped>\n",
              "    .dataframe tbody tr th:only-of-type {\n",
              "        vertical-align: middle;\n",
              "    }\n",
              "\n",
              "    .dataframe tbody tr th {\n",
              "        vertical-align: top;\n",
              "    }\n",
              "\n",
              "    .dataframe thead th {\n",
              "        text-align: right;\n",
              "    }\n",
              "</style>\n",
              "<table border=\"1\" class=\"dataframe\">\n",
              "  <thead>\n",
              "    <tr style=\"text-align: right;\">\n",
              "      <th></th>\n",
              "      <th>Title</th>\n",
              "      <th>Abstract</th>\n",
              "      <th>Paragraph</th>\n",
              "      <th>Contextual Consistency</th>\n",
              "      <th>Logical Flow</th>\n",
              "      <th>Relevance</th>\n",
              "      <th>Overall Coherence</th>\n",
              "    </tr>\n",
              "  </thead>\n",
              "  <tbody>\n",
              "    <tr>\n",
              "      <th>0</th>\n",
              "      <td>More Diverse Dialogue Datasets via Diversity-I...</td>\n",
              "      <td>Automated generation of conversational dialogu...</td>\n",
              "      <td>Proceedings of the 58th Annual Meeting of the ...</td>\n",
              "      <td>0.4959</td>\n",
              "      <td>0.5040</td>\n",
              "      <td>0.5832</td>\n",
              "      <td>0.5253</td>\n",
              "    </tr>\n",
              "    <tr>\n",
              "      <th>1</th>\n",
              "      <td>More Diverse Dialogue Datasets via Diversity-I...</td>\n",
              "      <td>Automated generation of conversational dialogu...</td>\n",
              "      <td>It is well-documented that neural dialogue mod...</td>\n",
              "      <td>0.7393</td>\n",
              "      <td>0.7009</td>\n",
              "      <td>0.8352</td>\n",
              "      <td>0.7527</td>\n",
              "    </tr>\n",
              "    <tr>\n",
              "      <th>2</th>\n",
              "      <td>More Diverse Dialogue Datasets via Diversity-I...</td>\n",
              "      <td>Automated generation of conversational dialogu...</td>\n",
              "      <td>Improving model diversity is an important goal...</td>\n",
              "      <td>0.5930</td>\n",
              "      <td>0.5937</td>\n",
              "      <td>0.7137</td>\n",
              "      <td>0.6295</td>\n",
              "    </tr>\n",
              "    <tr>\n",
              "      <th>3</th>\n",
              "      <td>More Diverse Dialogue Datasets via Diversity-I...</td>\n",
              "      <td>Automated generation of conversational dialogu...</td>\n",
              "      <td>Basu Roy et al. (2015) formulates the problem ...</td>\n",
              "      <td>0.3683</td>\n",
              "      <td>0.4315</td>\n",
              "      <td>0.3818</td>\n",
              "      <td>0.3976</td>\n",
              "    </tr>\n",
              "    <tr>\n",
              "      <th>4</th>\n",
              "      <td>More Diverse Dialogue Datasets via Diversity-I...</td>\n",
              "      <td>Automated generation of conversational dialogu...</td>\n",
              "      <td>An additional area related to our work is crow...</td>\n",
              "      <td>0.3384</td>\n",
              "      <td>0.3578</td>\n",
              "      <td>0.3846</td>\n",
              "      <td>0.3600</td>\n",
              "    </tr>\n",
              "    <tr>\n",
              "      <th>...</th>\n",
              "      <td>...</td>\n",
              "      <td>...</td>\n",
              "      <td>...</td>\n",
              "      <td>...</td>\n",
              "      <td>...</td>\n",
              "      <td>...</td>\n",
              "      <td>...</td>\n",
              "    </tr>\n",
              "    <tr>\n",
              "      <th>743</th>\n",
              "      <td>Code-Switching Patterns Can Be an Effective Ro...</td>\n",
              "      <td>In this paper we demonstrate how codeswitching...</td>\n",
              "      <td>Humour baseline (Khandelwal et al., 2018): Use...</td>\n",
              "      <td>0.7169</td>\n",
              "      <td>0.6656</td>\n",
              "      <td>0.7145</td>\n",
              "      <td>0.6957</td>\n",
              "    </tr>\n",
              "    <tr>\n",
              "      <th>744</th>\n",
              "      <td>Code-Switching Patterns Can Be an Effective Ro...</td>\n",
              "      <td>In this paper we demonstrate how codeswitching...</td>\n",
              "      <td>In order to draw the benefits of the modern de...</td>\n",
              "      <td>0.6784</td>\n",
              "      <td>0.6173</td>\n",
              "      <td>0.7308</td>\n",
              "      <td>0.6697</td>\n",
              "    </tr>\n",
              "    <tr>\n",
              "      <th>745</th>\n",
              "      <td>Code-Switching Patterns Can Be an Effective Ro...</td>\n",
              "      <td>In this paper we demonstrate how codeswitching...</td>\n",
              "      <td>Train-test split: For all datasets, we maintai...</td>\n",
              "      <td>0.4980</td>\n",
              "      <td>0.5743</td>\n",
              "      <td>0.5330</td>\n",
              "      <td>0.5390</td>\n",
              "    </tr>\n",
              "    <tr>\n",
              "      <th>746</th>\n",
              "      <td>Code-Switching Patterns Can Be an Effective Ro...</td>\n",
              "      <td>In this paper we demonstrate how codeswitching...</td>\n",
              "      <td>We compare the baseline models along with (i) ...</td>\n",
              "      <td>0.4678</td>\n",
              "      <td>0.4444</td>\n",
              "      <td>0.5726</td>\n",
              "      <td>0.4899</td>\n",
              "    </tr>\n",
              "    <tr>\n",
              "      <th>747</th>\n",
              "      <td>Code-Switching Patterns Can Be an Effective Ro...</td>\n",
              "      <td>In this paper we demonstrate how codeswitching...</td>\n",
              "      <td>In this paper, we identified how switching pat...</td>\n",
              "      <td>0.4162</td>\n",
              "      <td>0.4634</td>\n",
              "      <td>0.4116</td>\n",
              "      <td>0.4337</td>\n",
              "    </tr>\n",
              "  </tbody>\n",
              "</table>\n",
              "<p>748 rows × 7 columns</p>\n",
              "</div>"
            ],
            "text/plain": [
              "                                                 Title  \\\n",
              "0    More Diverse Dialogue Datasets via Diversity-I...   \n",
              "1    More Diverse Dialogue Datasets via Diversity-I...   \n",
              "2    More Diverse Dialogue Datasets via Diversity-I...   \n",
              "3    More Diverse Dialogue Datasets via Diversity-I...   \n",
              "4    More Diverse Dialogue Datasets via Diversity-I...   \n",
              "..                                                 ...   \n",
              "743  Code-Switching Patterns Can Be an Effective Ro...   \n",
              "744  Code-Switching Patterns Can Be an Effective Ro...   \n",
              "745  Code-Switching Patterns Can Be an Effective Ro...   \n",
              "746  Code-Switching Patterns Can Be an Effective Ro...   \n",
              "747  Code-Switching Patterns Can Be an Effective Ro...   \n",
              "\n",
              "                                              Abstract  \\\n",
              "0    Automated generation of conversational dialogu...   \n",
              "1    Automated generation of conversational dialogu...   \n",
              "2    Automated generation of conversational dialogu...   \n",
              "3    Automated generation of conversational dialogu...   \n",
              "4    Automated generation of conversational dialogu...   \n",
              "..                                                 ...   \n",
              "743  In this paper we demonstrate how codeswitching...   \n",
              "744  In this paper we demonstrate how codeswitching...   \n",
              "745  In this paper we demonstrate how codeswitching...   \n",
              "746  In this paper we demonstrate how codeswitching...   \n",
              "747  In this paper we demonstrate how codeswitching...   \n",
              "\n",
              "                                             Paragraph  \\\n",
              "0    Proceedings of the 58th Annual Meeting of the ...   \n",
              "1    It is well-documented that neural dialogue mod...   \n",
              "2    Improving model diversity is an important goal...   \n",
              "3    Basu Roy et al. (2015) formulates the problem ...   \n",
              "4    An additional area related to our work is crow...   \n",
              "..                                                 ...   \n",
              "743  Humour baseline (Khandelwal et al., 2018): Use...   \n",
              "744  In order to draw the benefits of the modern de...   \n",
              "745  Train-test split: For all datasets, we maintai...   \n",
              "746  We compare the baseline models along with (i) ...   \n",
              "747  In this paper, we identified how switching pat...   \n",
              "\n",
              "     Contextual Consistency  Logical Flow  Relevance  Overall Coherence  \n",
              "0                    0.4959        0.5040     0.5832             0.5253  \n",
              "1                    0.7393        0.7009     0.8352             0.7527  \n",
              "2                    0.5930        0.5937     0.7137             0.6295  \n",
              "3                    0.3683        0.4315     0.3818             0.3976  \n",
              "4                    0.3384        0.3578     0.3846             0.3600  \n",
              "..                      ...           ...        ...                ...  \n",
              "743                  0.7169        0.6656     0.7145             0.6957  \n",
              "744                  0.6784        0.6173     0.7308             0.6697  \n",
              "745                  0.4980        0.5743     0.5330             0.5390  \n",
              "746                  0.4678        0.4444     0.5726             0.4899  \n",
              "747                  0.4162        0.4634     0.4116             0.4337  \n",
              "\n",
              "[748 rows x 7 columns]"
            ]
          },
          "execution_count": 282,
          "metadata": {},
          "output_type": "execute_result"
        }
      ],
      "source": [
        "df_with_scores"
      ]
    },
    {
      "cell_type": "markdown",
      "id": "ae518f40-0f94-4a38-b44d-e29eeaf1d5ce",
      "metadata": {
        "id": "ae518f40-0f94-4a38-b44d-e29eeaf1d5ce"
      },
      "source": [
        "### Calculate Abstract-Paragraph Relevance"
      ]
    },
    {
      "cell_type": "code",
      "execution_count": null,
      "id": "cf66312a-f05f-4a94-8825-5827568751f6",
      "metadata": {
        "id": "cf66312a-f05f-4a94-8825-5827568751f6"
      },
      "outputs": [],
      "source": [
        "import pandas as pd\n",
        "from sentence_transformers import SentenceTransformer, util\n",
        "\n",
        "MODEL_NAME = \"sentence-transformers/all-mpnet-base-v2\"\n",
        "model = SentenceTransformer(MODEL_NAME)\n",
        "\n",
        "# Function to calculate relevance scores between abstract and paragraph\n",
        "def get_abstract_paragraph_coherence_scores(abstract, paragraph):\n",
        "\n",
        "\n",
        "    prompts = {\n",
        "        \"Contextual Alignment\": \"Does the paragraph align with the main message of the abstract?\",\n",
        "        \"Topical Relevance\": \"Is the paragraph content relevant to the research focus described in the abstract?\",\n",
        "        \"Purpose Fit\": \"Does the paragraph support or expand on the purpose defined in the abstract?\"\n",
        "    }\n",
        "\n",
        "    scores = {}\n",
        "\n",
        "    for criterion, prompt in prompts.items():\n",
        "        full_prompt = f\"{prompt}\\n\\nAbstract:\\n\\\"{abstract}\\\"\\n\\nParagraph:\\n\\\"{paragraph}\\\"\\n\\nScore (0-1):\"\n",
        "\n",
        "        embeddings = model.encode([full_prompt, paragraph], convert_to_tensor=True)\n",
        "\n",
        "        similarity_score = util.pytorch_cos_sim(embeddings[0], embeddings[1]).item()\n",
        "\n",
        "        scores[criterion] = round(max(0, min(1, similarity_score)), 4)\n",
        "\n",
        "    return scores\n",
        "\n",
        "def weighted_ap_coherence(scores, weights={\"Contextual Alignment\": 0.4, \"Topical Relevance\": 0.3, \"Purpose Fit\": 0.3}):\n",
        "    return round(sum(scores[key] * weights[key] for key in scores), 4)\n",
        "\n",
        "def apply_abstract_paragraph_coherence(df_with_scores):\n",
        "    alignment_scores = []\n",
        "    topical_scores = []\n",
        "    purpose_scores = []\n",
        "    overall_scores = []\n",
        "\n",
        "    for _, row in df_with_scores.iterrows():\n",
        "        abstract = row['Abstract']\n",
        "        paragraph = row['Paragraph']\n",
        "\n",
        "        scores = get_abstract_paragraph_coherence_scores(abstract, paragraph)\n",
        "        overall = weighted_ap_coherence(scores)\n",
        "\n",
        "        alignment_scores.append(scores[\"Contextual Alignment\"])\n",
        "        topical_scores.append(scores[\"Topical Relevance\"])\n",
        "        purpose_scores.append(scores[\"Purpose Fit\"])\n",
        "        overall_scores.append(overall)\n",
        "\n",
        "    df_with_scores['#Contextual Alignment'] = alignment_scores\n",
        "    df_with_scores['#Topical Relevance'] = topical_scores\n",
        "    df_with_scores['#Purpose Fit'] = purpose_scores\n",
        "    df_with_scores['Abstract-Paragraph Coherence'] = overall_scores\n",
        "\n",
        "    return df_with_scores\n",
        "\n",
        "df_with_scores = apply_abstract_paragraph_coherence(b_diff)"
      ]
    },
    {
      "cell_type": "code",
      "execution_count": null,
      "id": "c1beb21f-e124-4dc2-90d8-c58ddac6355a",
      "metadata": {
        "id": "c1beb21f-e124-4dc2-90d8-c58ddac6355a",
        "outputId": "3734eebe-fe7f-40ac-b4eb-05f6b5836ec7"
      },
      "outputs": [
        {
          "data": {
            "text/plain": [
              "Index(['Title', 'Abstract', 'Paragraph', 'Contextual Consistency',\n",
              "       'Logical Flow', 'Relevance', 'Overall Coherence',\n",
              "       '#Contextual Alignment', '#Topical Relevance', '#Purpose Fit',\n",
              "       'Abstract-Paragraph Coherence'],\n",
              "      dtype='object')"
            ]
          },
          "execution_count": 284,
          "metadata": {},
          "output_type": "execute_result"
        }
      ],
      "source": [
        "df_with_scores.columns"
      ]
    },
    {
      "cell_type": "code",
      "execution_count": null,
      "id": "44eed4a2-b967-4a16-a58c-0db7512427fa",
      "metadata": {
        "id": "44eed4a2-b967-4a16-a58c-0db7512427fa",
        "outputId": "3833e043-fd86-4201-d191-f2973c440f7a"
      },
      "outputs": [
        {
          "data": {
            "text/plain": [
              "0      0.5753\n",
              "1      0.6880\n",
              "2      0.6643\n",
              "3      0.4181\n",
              "4      0.4677\n",
              "        ...  \n",
              "743    0.6828\n",
              "744    0.7020\n",
              "745    0.5788\n",
              "746    0.5076\n",
              "747    0.4088\n",
              "Name: Abstract-Paragraph Coherence, Length: 748, dtype: float64"
            ]
          },
          "execution_count": 285,
          "metadata": {},
          "output_type": "execute_result"
        }
      ],
      "source": [
        "df_with_scores['Abstract-Paragraph Coherence']"
      ]
    },
    {
      "cell_type": "code",
      "execution_count": null,
      "id": "d7fbb154-ed36-473e-92f0-4ebf6a278524",
      "metadata": {
        "id": "d7fbb154-ed36-473e-92f0-4ebf6a278524",
        "outputId": "0ef8085f-589a-4902-d7f2-10f632fefb36"
      },
      "outputs": [
        {
          "name": "stdout",
          "output_type": "stream",
          "text": [
            "count    748.000000\n",
            "mean       0.637866\n",
            "std        0.114851\n",
            "min        0.143600\n",
            "25%        0.571475\n",
            "50%        0.653000\n",
            "75%        0.718900\n",
            "max        0.919700\n",
            "Name: Overall Coherence, dtype: float64\n",
            "count    748.000000\n",
            "mean       0.652803\n",
            "std        0.117948\n",
            "min        0.016100\n",
            "25%        0.604850\n",
            "50%        0.671200\n",
            "75%        0.726425\n",
            "max        0.857500\n",
            "Name: Abstract-Paragraph Coherence, dtype: float64\n"
          ]
        }
      ],
      "source": [
        "# For example, if your coherence column is 'Overall Coherence'\n",
        "print(df_with_scores['Overall Coherence'].describe())\n",
        "print(df_with_scores['Abstract-Paragraph Coherence'].describe())"
      ]
    },
    {
      "cell_type": "code",
      "execution_count": null,
      "id": "81a1526a-81c1-46b6-a266-3e54ba290b04",
      "metadata": {
        "id": "81a1526a-81c1-46b6-a266-3e54ba290b04"
      },
      "outputs": [],
      "source": [
        "coherence_threshold = df_with_scores['Overall Coherence'].quantile(0.6)\n",
        "relevance_threshold = df_with_scores['Abstract-Paragraph Coherence'].quantile(0.6)\n"
      ]
    },
    {
      "cell_type": "code",
      "execution_count": null,
      "id": "683b6052-260b-4d1e-a346-53d1c1594aae",
      "metadata": {
        "id": "683b6052-260b-4d1e-a346-53d1c1594aae",
        "outputId": "33596c6b-9c0a-4257-bd85-0317d614fea8"
      },
      "outputs": [
        {
          "data": {
            "text/plain": [
              "0.67864"
            ]
          },
          "execution_count": 288,
          "metadata": {},
          "output_type": "execute_result"
        }
      ],
      "source": [
        "coherence_threshold"
      ]
    },
    {
      "cell_type": "code",
      "execution_count": null,
      "id": "54d741d8-07f3-4c51-8630-d960fceac7e3",
      "metadata": {
        "id": "54d741d8-07f3-4c51-8630-d960fceac7e3",
        "outputId": "8e80fef4-7956-44b4-8494-526fe1c6a187"
      },
      "outputs": [
        {
          "data": {
            "text/plain": [
              "0.6925"
            ]
          },
          "execution_count": 289,
          "metadata": {},
          "output_type": "execute_result"
        }
      ],
      "source": [
        "relevance_threshold"
      ]
    },
    {
      "cell_type": "code",
      "execution_count": null,
      "id": "5840a6e8-fbe5-47aa-92cd-d5d59d98c253",
      "metadata": {
        "id": "5840a6e8-fbe5-47aa-92cd-d5d59d98c253",
        "outputId": "dff43450-048f-4cef-b320-638d4ce35d6d"
      },
      "outputs": [
        {
          "data": {
            "image/png": "[encoded data removed]",
            "text/plain": [
              "<Figure size 640x480 with 1 Axes>"
            ]
          },
          "metadata": {},
          "output_type": "display_data"
        }
      ],
      "source": [
        "import matplotlib.pyplot as plt\n",
        "\n",
        "df_with_scores['Overall Coherence'].hist(bins=50)\n",
        "plt.axvline(df_with_scores['Overall Coherence'].mean(), color='green', linestyle='--', label='Mean')\n",
        "plt.axvline(df_with_scores['Overall Coherence'].mean() - df_with_scores['Overall Coherence'].std(), color='red', linestyle='--', label='Mean - 1 Std')\n",
        "plt.axvline(df_with_scores['Overall Coherence'].quantile(0.6), color='purple', linestyle='--', label='60th Percentile')\n",
        "plt.legend()\n",
        "plt.title(\"Paragraph Coherence Score Distribution\")\n",
        "plt.xlabel(\"Coherence Score\")\n",
        "plt.ylabel(\"Count\")\n",
        "plt.show()\n"
      ]
    },
    {
      "cell_type": "code",
      "execution_count": null,
      "id": "bc592b6d-f901-4170-85f8-9c19973620b3",
      "metadata": {
        "id": "bc592b6d-f901-4170-85f8-9c19973620b3",
        "outputId": "802399b1-66e2-4b93-d95b-50bc8c9ca05e"
      },
      "outputs": [
        {
          "data": {
            "image/png": "[encoded data removed]",
            "text/plain": [
              "<Figure size 640x480 with 1 Axes>"
            ]
          },
          "metadata": {},
          "output_type": "display_data"
        }
      ],
      "source": [
        "import matplotlib.pyplot as plt\n",
        "\n",
        "df_with_scores['Abstract-Paragraph Coherence'].hist(bins=50)\n",
        "plt.axvline(df_with_scores['Abstract-Paragraph Coherence'].mean(), color='green', linestyle='--', label='Mean')\n",
        "plt.axvline(df_with_scores['Abstract-Paragraph Coherence'].mean() - df_with_scores['Abstract-Paragraph Coherence'].std(), color='red', linestyle='--', label='Mean - 1 Std')\n",
        "plt.axvline(df_with_scores['Abstract-Paragraph Coherence'].quantile(0.6), color='purple', linestyle='--', label='60th Percentile')\n",
        "plt.legend()\n",
        "plt.title(\"Abstract-Paragraph Coherence\")\n",
        "plt.xlabel(\"Abstract-Paragraph Coherence Score\")\n",
        "plt.ylabel(\"Count\")\n",
        "plt.show()\n"
      ]
    },
    {
      "cell_type": "code",
      "execution_count": null,
      "id": "598a9e56-ba7a-4ef9-bf4d-c00755f7c6c8",
      "metadata": {
        "id": "598a9e56-ba7a-4ef9-bf4d-c00755f7c6c8",
        "outputId": "ae0284bd-75f4-45d7-cc9a-139e299f190b"
      },
      "outputs": [
        {
          "data": {
            "text/plain": [
              "<matplotlib.legend.Legend at 0x7f6fc94af010>"
            ]
          },
          "execution_count": 294,
          "metadata": {},
          "output_type": "execute_result"
        },
        {
          "data": {
            "image/png": "[encoded data removed]",
            "text/plain": [
              "<Figure size 800x400 with 1 Axes>"
            ]
          },
          "metadata": {},
          "output_type": "display_data"
        }
      ],
      "source": [
        "import seaborn as sns\n",
        "plt.figure(figsize=(8, 4))\n",
        "sns.ecdfplot(data=df_with_scores, x=\"Overall Coherence\", label='Paragraph Coherence')\n",
        "sns.ecdfplot(data=df_with_scores, x=\"Abstract-Paragraph Coherence\", label=\"Abstract-Paragraph Coherence\")\n",
        "plt.axhline(y=0.6, color='red', linestyle='--', label=\"60% Cumulative Threshold\")\n",
        "plt.legend()"
      ]
    },
    {
      "cell_type": "code",
      "execution_count": null,
      "id": "8ac5d035-484c-47cf-b8f0-fbd9db937d47",
      "metadata": {
        "id": "8ac5d035-484c-47cf-b8f0-fbd9db937d47"
      },
      "outputs": [],
      "source": [
        "df_with_scores = df_with_scores[['Title','Abstract','Paragraph','Overall Coherence','Abstract-Paragraph Coherence']]"
      ]
    },
    {
      "cell_type": "code",
      "execution_count": null,
      "id": "61895edc-5f32-49b5-a119-286ee2b4cf1a",
      "metadata": {
        "id": "61895edc-5f32-49b5-a119-286ee2b4cf1a",
        "outputId": "af99e05b-2683-48b2-fa19-cc42ca4e85df"
      },
      "outputs": [
        {
          "data": {
            "text/html": [
              "<div>\n",
              "<style scoped>\n",
              "    .dataframe tbody tr th:only-of-type {\n",
              "        vertical-align: middle;\n",
              "    }\n",
              "\n",
              "    .dataframe tbody tr th {\n",
              "        vertical-align: top;\n",
              "    }\n",
              "\n",
              "    .dataframe thead th {\n",
              "        text-align: right;\n",
              "    }\n",
              "</style>\n",
              "<table border=\"1\" class=\"dataframe\">\n",
              "  <thead>\n",
              "    <tr style=\"text-align: right;\">\n",
              "      <th></th>\n",
              "      <th>Title</th>\n",
              "      <th>Abstract</th>\n",
              "      <th>Paragraph</th>\n",
              "      <th>Overall Coherence</th>\n",
              "      <th>Abstract-Paragraph Coherence</th>\n",
              "    </tr>\n",
              "  </thead>\n",
              "  <tbody>\n",
              "    <tr>\n",
              "      <th>0</th>\n",
              "      <td>More Diverse Dialogue Datasets via Diversity-I...</td>\n",
              "      <td>Automated generation of conversational dialogu...</td>\n",
              "      <td>Proceedings of the 58th Annual Meeting of the ...</td>\n",
              "      <td>0.5253</td>\n",
              "      <td>0.5753</td>\n",
              "    </tr>\n",
              "    <tr>\n",
              "      <th>1</th>\n",
              "      <td>More Diverse Dialogue Datasets via Diversity-I...</td>\n",
              "      <td>Automated generation of conversational dialogu...</td>\n",
              "      <td>It is well-documented that neural dialogue mod...</td>\n",
              "      <td>0.7527</td>\n",
              "      <td>0.6880</td>\n",
              "    </tr>\n",
              "    <tr>\n",
              "      <th>2</th>\n",
              "      <td>More Diverse Dialogue Datasets via Diversity-I...</td>\n",
              "      <td>Automated generation of conversational dialogu...</td>\n",
              "      <td>Improving model diversity is an important goal...</td>\n",
              "      <td>0.6295</td>\n",
              "      <td>0.6643</td>\n",
              "    </tr>\n",
              "    <tr>\n",
              "      <th>3</th>\n",
              "      <td>More Diverse Dialogue Datasets via Diversity-I...</td>\n",
              "      <td>Automated generation of conversational dialogu...</td>\n",
              "      <td>Basu Roy et al. (2015) formulates the problem ...</td>\n",
              "      <td>0.3976</td>\n",
              "      <td>0.4181</td>\n",
              "    </tr>\n",
              "    <tr>\n",
              "      <th>4</th>\n",
              "      <td>More Diverse Dialogue Datasets via Diversity-I...</td>\n",
              "      <td>Automated generation of conversational dialogu...</td>\n",
              "      <td>An additional area related to our work is crow...</td>\n",
              "      <td>0.3600</td>\n",
              "      <td>0.4677</td>\n",
              "    </tr>\n",
              "    <tr>\n",
              "      <th>...</th>\n",
              "      <td>...</td>\n",
              "      <td>...</td>\n",
              "      <td>...</td>\n",
              "      <td>...</td>\n",
              "      <td>...</td>\n",
              "    </tr>\n",
              "    <tr>\n",
              "      <th>743</th>\n",
              "      <td>Code-Switching Patterns Can Be an Effective Ro...</td>\n",
              "      <td>In this paper we demonstrate how codeswitching...</td>\n",
              "      <td>Humour baseline (Khandelwal et al., 2018): Use...</td>\n",
              "      <td>0.6957</td>\n",
              "      <td>0.6828</td>\n",
              "    </tr>\n",
              "    <tr>\n",
              "      <th>744</th>\n",
              "      <td>Code-Switching Patterns Can Be an Effective Ro...</td>\n",
              "      <td>In this paper we demonstrate how codeswitching...</td>\n",
              "      <td>In order to draw the benefits of the modern de...</td>\n",
              "      <td>0.6697</td>\n",
              "      <td>0.7020</td>\n",
              "    </tr>\n",
              "    <tr>\n",
              "      <th>745</th>\n",
              "      <td>Code-Switching Patterns Can Be an Effective Ro...</td>\n",
              "      <td>In this paper we demonstrate how codeswitching...</td>\n",
              "      <td>Train-test split: For all datasets, we maintai...</td>\n",
              "      <td>0.5390</td>\n",
              "      <td>0.5788</td>\n",
              "    </tr>\n",
              "    <tr>\n",
              "      <th>746</th>\n",
              "      <td>Code-Switching Patterns Can Be an Effective Ro...</td>\n",
              "      <td>In this paper we demonstrate how codeswitching...</td>\n",
              "      <td>We compare the baseline models along with (i) ...</td>\n",
              "      <td>0.4899</td>\n",
              "      <td>0.5076</td>\n",
              "    </tr>\n",
              "    <tr>\n",
              "      <th>747</th>\n",
              "      <td>Code-Switching Patterns Can Be an Effective Ro...</td>\n",
              "      <td>In this paper we demonstrate how codeswitching...</td>\n",
              "      <td>In this paper, we identified how switching pat...</td>\n",
              "      <td>0.4337</td>\n",
              "      <td>0.4088</td>\n",
              "    </tr>\n",
              "  </tbody>\n",
              "</table>\n",
              "<p>748 rows × 5 columns</p>\n",
              "</div>"
            ],
            "text/plain": [
              "                                                 Title  \\\n",
              "0    More Diverse Dialogue Datasets via Diversity-I...   \n",
              "1    More Diverse Dialogue Datasets via Diversity-I...   \n",
              "2    More Diverse Dialogue Datasets via Diversity-I...   \n",
              "3    More Diverse Dialogue Datasets via Diversity-I...   \n",
              "4    More Diverse Dialogue Datasets via Diversity-I...   \n",
              "..                                                 ...   \n",
              "743  Code-Switching Patterns Can Be an Effective Ro...   \n",
              "744  Code-Switching Patterns Can Be an Effective Ro...   \n",
              "745  Code-Switching Patterns Can Be an Effective Ro...   \n",
              "746  Code-Switching Patterns Can Be an Effective Ro...   \n",
              "747  Code-Switching Patterns Can Be an Effective Ro...   \n",
              "\n",
              "                                              Abstract  \\\n",
              "0    Automated generation of conversational dialogu...   \n",
              "1    Automated generation of conversational dialogu...   \n",
              "2    Automated generation of conversational dialogu...   \n",
              "3    Automated generation of conversational dialogu...   \n",
              "4    Automated generation of conversational dialogu...   \n",
              "..                                                 ...   \n",
              "743  In this paper we demonstrate how codeswitching...   \n",
              "744  In this paper we demonstrate how codeswitching...   \n",
              "745  In this paper we demonstrate how codeswitching...   \n",
              "746  In this paper we demonstrate how codeswitching...   \n",
              "747  In this paper we demonstrate how codeswitching...   \n",
              "\n",
              "                                             Paragraph  Overall Coherence  \\\n",
              "0    Proceedings of the 58th Annual Meeting of the ...             0.5253   \n",
              "1    It is well-documented that neural dialogue mod...             0.7527   \n",
              "2    Improving model diversity is an important goal...             0.6295   \n",
              "3    Basu Roy et al. (2015) formulates the problem ...             0.3976   \n",
              "4    An additional area related to our work is crow...             0.3600   \n",
              "..                                                 ...                ...   \n",
              "743  Humour baseline (Khandelwal et al., 2018): Use...             0.6957   \n",
              "744  In order to draw the benefits of the modern de...             0.6697   \n",
              "745  Train-test split: For all datasets, we maintai...             0.5390   \n",
              "746  We compare the baseline models along with (i) ...             0.4899   \n",
              "747  In this paper, we identified how switching pat...             0.4337   \n",
              "\n",
              "     Abstract-Paragraph Coherence  \n",
              "0                          0.5753  \n",
              "1                          0.6880  \n",
              "2                          0.6643  \n",
              "3                          0.4181  \n",
              "4                          0.4677  \n",
              "..                            ...  \n",
              "743                        0.6828  \n",
              "744                        0.7020  \n",
              "745                        0.5788  \n",
              "746                        0.5076  \n",
              "747                        0.4088  \n",
              "\n",
              "[748 rows x 5 columns]"
            ]
          },
          "execution_count": 237,
          "metadata": {},
          "output_type": "execute_result"
        }
      ],
      "source": [
        "df_with_scores"
      ]
    },
    {
      "cell_type": "code",
      "execution_count": null,
      "id": "7556c3b8-bce9-4bb5-8310-9fc9f21ca838",
      "metadata": {
        "id": "7556c3b8-bce9-4bb5-8310-9fc9f21ca838"
      },
      "outputs": [],
      "source": [
        "df_with_scores.to_csv(\"Fifty_papers_with_scores.csv\")"
      ]
    },
    {
      "cell_type": "code",
      "execution_count": null,
      "id": "9e2ce2d0-ac08-4b62-8c7c-ac32424451bd",
      "metadata": {
        "id": "9e2ce2d0-ac08-4b62-8c7c-ac32424451bd"
      },
      "outputs": [],
      "source": [
        "import numpy as np\n",
        "\n",
        "df_with_scores.loc[:, 'Temporay_Label'] = np.where(\n",
        "    (df_with_scores['Overall Coherence'] > coherence_threshold) &\n",
        "    (df_with_scores['Abstract-Paragraph Coherence'] > relevance_threshold),\n",
        "    'positive',\n",
        "    'negative'\n",
        ")\n",
        "\n"
      ]
    },
    {
      "cell_type": "code",
      "execution_count": null,
      "id": "e219c659-a56f-458d-8fc7-027e13b50078",
      "metadata": {
        "id": "e219c659-a56f-458d-8fc7-027e13b50078",
        "outputId": "09203704-82aa-4485-e3f5-f8f817e3270a"
      },
      "outputs": [
        {
          "data": {
            "text/html": [
              "<div>\n",
              "<style scoped>\n",
              "    .dataframe tbody tr th:only-of-type {\n",
              "        vertical-align: middle;\n",
              "    }\n",
              "\n",
              "    .dataframe tbody tr th {\n",
              "        vertical-align: top;\n",
              "    }\n",
              "\n",
              "    .dataframe thead th {\n",
              "        text-align: right;\n",
              "    }\n",
              "</style>\n",
              "<table border=\"1\" class=\"dataframe\">\n",
              "  <thead>\n",
              "    <tr style=\"text-align: right;\">\n",
              "      <th></th>\n",
              "      <th>Title</th>\n",
              "      <th>Abstract</th>\n",
              "      <th>Paragraph</th>\n",
              "      <th>Overall Coherence</th>\n",
              "      <th>Abstract-Paragraph Coherence</th>\n",
              "      <th>Temporay_Label</th>\n",
              "    </tr>\n",
              "  </thead>\n",
              "  <tbody>\n",
              "    <tr>\n",
              "      <th>0</th>\n",
              "      <td>More Diverse Dialogue Datasets via Diversity-I...</td>\n",
              "      <td>Automated generation of conversational dialogu...</td>\n",
              "      <td>Proceedings of the 58th Annual Meeting of the ...</td>\n",
              "      <td>0.5253</td>\n",
              "      <td>0.5753</td>\n",
              "      <td>negative</td>\n",
              "    </tr>\n",
              "    <tr>\n",
              "      <th>1</th>\n",
              "      <td>More Diverse Dialogue Datasets via Diversity-I...</td>\n",
              "      <td>Automated generation of conversational dialogu...</td>\n",
              "      <td>It is well-documented that neural dialogue mod...</td>\n",
              "      <td>0.7527</td>\n",
              "      <td>0.6880</td>\n",
              "      <td>negative</td>\n",
              "    </tr>\n",
              "    <tr>\n",
              "      <th>2</th>\n",
              "      <td>More Diverse Dialogue Datasets via Diversity-I...</td>\n",
              "      <td>Automated generation of conversational dialogu...</td>\n",
              "      <td>Improving model diversity is an important goal...</td>\n",
              "      <td>0.6295</td>\n",
              "      <td>0.6643</td>\n",
              "      <td>negative</td>\n",
              "    </tr>\n",
              "    <tr>\n",
              "      <th>3</th>\n",
              "      <td>More Diverse Dialogue Datasets via Diversity-I...</td>\n",
              "      <td>Automated generation of conversational dialogu...</td>\n",
              "      <td>Basu Roy et al. (2015) formulates the problem ...</td>\n",
              "      <td>0.3976</td>\n",
              "      <td>0.4181</td>\n",
              "      <td>negative</td>\n",
              "    </tr>\n",
              "    <tr>\n",
              "      <th>4</th>\n",
              "      <td>More Diverse Dialogue Datasets via Diversity-I...</td>\n",
              "      <td>Automated generation of conversational dialogu...</td>\n",
              "      <td>An additional area related to our work is crow...</td>\n",
              "      <td>0.3600</td>\n",
              "      <td>0.4677</td>\n",
              "      <td>negative</td>\n",
              "    </tr>\n",
              "    <tr>\n",
              "      <th>...</th>\n",
              "      <td>...</td>\n",
              "      <td>...</td>\n",
              "      <td>...</td>\n",
              "      <td>...</td>\n",
              "      <td>...</td>\n",
              "      <td>...</td>\n",
              "    </tr>\n",
              "    <tr>\n",
              "      <th>743</th>\n",
              "      <td>Code-Switching Patterns Can Be an Effective Ro...</td>\n",
              "      <td>In this paper we demonstrate how codeswitching...</td>\n",
              "      <td>Humour baseline (Khandelwal et al., 2018): Use...</td>\n",
              "      <td>0.6957</td>\n",
              "      <td>0.6828</td>\n",
              "      <td>negative</td>\n",
              "    </tr>\n",
              "    <tr>\n",
              "      <th>744</th>\n",
              "      <td>Code-Switching Patterns Can Be an Effective Ro...</td>\n",
              "      <td>In this paper we demonstrate how codeswitching...</td>\n",
              "      <td>In order to draw the benefits of the modern de...</td>\n",
              "      <td>0.6697</td>\n",
              "      <td>0.7020</td>\n",
              "      <td>negative</td>\n",
              "    </tr>\n",
              "    <tr>\n",
              "      <th>745</th>\n",
              "      <td>Code-Switching Patterns Can Be an Effective Ro...</td>\n",
              "      <td>In this paper we demonstrate how codeswitching...</td>\n",
              "      <td>Train-test split: For all datasets, we maintai...</td>\n",
              "      <td>0.5390</td>\n",
              "      <td>0.5788</td>\n",
              "      <td>negative</td>\n",
              "    </tr>\n",
              "    <tr>\n",
              "      <th>746</th>\n",
              "      <td>Code-Switching Patterns Can Be an Effective Ro...</td>\n",
              "      <td>In this paper we demonstrate how codeswitching...</td>\n",
              "      <td>We compare the baseline models along with (i) ...</td>\n",
              "      <td>0.4899</td>\n",
              "      <td>0.5076</td>\n",
              "      <td>negative</td>\n",
              "    </tr>\n",
              "    <tr>\n",
              "      <th>747</th>\n",
              "      <td>Code-Switching Patterns Can Be an Effective Ro...</td>\n",
              "      <td>In this paper we demonstrate how codeswitching...</td>\n",
              "      <td>In this paper, we identified how switching pat...</td>\n",
              "      <td>0.4337</td>\n",
              "      <td>0.4088</td>\n",
              "      <td>negative</td>\n",
              "    </tr>\n",
              "  </tbody>\n",
              "</table>\n",
              "<p>748 rows × 6 columns</p>\n",
              "</div>"
            ],
            "text/plain": [
              "                                                 Title  \\\n",
              "0    More Diverse Dialogue Datasets via Diversity-I...   \n",
              "1    More Diverse Dialogue Datasets via Diversity-I...   \n",
              "2    More Diverse Dialogue Datasets via Diversity-I...   \n",
              "3    More Diverse Dialogue Datasets via Diversity-I...   \n",
              "4    More Diverse Dialogue Datasets via Diversity-I...   \n",
              "..                                                 ...   \n",
              "743  Code-Switching Patterns Can Be an Effective Ro...   \n",
              "744  Code-Switching Patterns Can Be an Effective Ro...   \n",
              "745  Code-Switching Patterns Can Be an Effective Ro...   \n",
              "746  Code-Switching Patterns Can Be an Effective Ro...   \n",
              "747  Code-Switching Patterns Can Be an Effective Ro...   \n",
              "\n",
              "                                              Abstract  \\\n",
              "0    Automated generation of conversational dialogu...   \n",
              "1    Automated generation of conversational dialogu...   \n",
              "2    Automated generation of conversational dialogu...   \n",
              "3    Automated generation of conversational dialogu...   \n",
              "4    Automated generation of conversational dialogu...   \n",
              "..                                                 ...   \n",
              "743  In this paper we demonstrate how codeswitching...   \n",
              "744  In this paper we demonstrate how codeswitching...   \n",
              "745  In this paper we demonstrate how codeswitching...   \n",
              "746  In this paper we demonstrate how codeswitching...   \n",
              "747  In this paper we demonstrate how codeswitching...   \n",
              "\n",
              "                                             Paragraph  Overall Coherence  \\\n",
              "0    Proceedings of the 58th Annual Meeting of the ...             0.5253   \n",
              "1    It is well-documented that neural dialogue mod...             0.7527   \n",
              "2    Improving model diversity is an important goal...             0.6295   \n",
              "3    Basu Roy et al. (2015) formulates the problem ...             0.3976   \n",
              "4    An additional area related to our work is crow...             0.3600   \n",
              "..                                                 ...                ...   \n",
              "743  Humour baseline (Khandelwal et al., 2018): Use...             0.6957   \n",
              "744  In order to draw the benefits of the modern de...             0.6697   \n",
              "745  Train-test split: For all datasets, we maintai...             0.5390   \n",
              "746  We compare the baseline models along with (i) ...             0.4899   \n",
              "747  In this paper, we identified how switching pat...             0.4337   \n",
              "\n",
              "     Abstract-Paragraph Coherence Temporay_Label  \n",
              "0                          0.5753       negative  \n",
              "1                          0.6880       negative  \n",
              "2                          0.6643       negative  \n",
              "3                          0.4181       negative  \n",
              "4                          0.4677       negative  \n",
              "..                            ...            ...  \n",
              "743                        0.6828       negative  \n",
              "744                        0.7020       negative  \n",
              "745                        0.5788       negative  \n",
              "746                        0.5076       negative  \n",
              "747                        0.4088       negative  \n",
              "\n",
              "[748 rows x 6 columns]"
            ]
          },
          "execution_count": 261,
          "metadata": {},
          "output_type": "execute_result"
        }
      ],
      "source": [
        "df_with_scores"
      ]
    },
    {
      "cell_type": "code",
      "execution_count": null,
      "id": "b1eee85e-cc9e-445e-944f-54905720b329",
      "metadata": {
        "id": "b1eee85e-cc9e-445e-944f-54905720b329"
      },
      "outputs": [],
      "source": [
        "df_with_scores = df_with_scores.copy()"
      ]
    },
    {
      "cell_type": "code",
      "execution_count": null,
      "id": "8a31f1df-b1ec-4c42-a466-9f2257d834d0",
      "metadata": {
        "id": "8a31f1df-b1ec-4c42-a466-9f2257d834d0"
      },
      "outputs": [],
      "source": [
        "df_positive_samples = df_with_scores[df_with_scores['Temporay_Label'] == 'positive'] ## Consistent\n",
        "\n",
        "df_negative_samples = df_with_scores[df_with_scores['Temporay_Label'] == 'negative'] ##Inconsistent"
      ]
    },
    {
      "cell_type": "code",
      "execution_count": null,
      "id": "f497e98c-3783-4641-90a5-f378e8a19108",
      "metadata": {
        "id": "f497e98c-3783-4641-90a5-f378e8a19108",
        "outputId": "f993774b-6691-41e5-d09e-c19ec72f5a65"
      },
      "outputs": [
        {
          "data": {
            "text/plain": [
              "(175, 6)"
            ]
          },
          "execution_count": 264,
          "metadata": {},
          "output_type": "execute_result"
        }
      ],
      "source": [
        "df_positive_samples.shape"
      ]
    },
    {
      "cell_type": "code",
      "execution_count": null,
      "id": "aa14eb15-bcbc-42e6-bc68-020c929e8e02",
      "metadata": {
        "id": "aa14eb15-bcbc-42e6-bc68-020c929e8e02",
        "outputId": "b0e2123a-a588-41d0-f138-00a0320a34ca"
      },
      "outputs": [
        {
          "data": {
            "text/plain": [
              "(573, 6)"
            ]
          },
          "execution_count": 265,
          "metadata": {},
          "output_type": "execute_result"
        }
      ],
      "source": [
        "df_negative_samples.shape"
      ]
    },
    {
      "cell_type": "markdown",
      "id": "0cbb7ce2-acdc-4022-8656-4fc579dc3e8d",
      "metadata": {
        "id": "0cbb7ce2-acdc-4022-8656-4fc579dc3e8d"
      },
      "source": [
        "### Down Sampling Inconsistent Samples"
      ]
    },
    {
      "cell_type": "code",
      "execution_count": null,
      "id": "44bec264-3137-45dd-ac8c-ddb581e65945",
      "metadata": {
        "id": "44bec264-3137-45dd-ac8c-ddb581e65945"
      },
      "outputs": [],
      "source": [
        "subsetdf_negative_samples = df_negative_samples.head(275)"
      ]
    },
    {
      "cell_type": "code",
      "execution_count": null,
      "id": "b0fdc159-8f66-43d0-87cd-52db099e529c",
      "metadata": {
        "id": "b0fdc159-8f66-43d0-87cd-52db099e529c",
        "outputId": "56f67963-11e2-490b-aa86-33b007c3159d"
      },
      "outputs": [
        {
          "data": {
            "text/html": [
              "<div>\n",
              "<style scoped>\n",
              "    .dataframe tbody tr th:only-of-type {\n",
              "        vertical-align: middle;\n",
              "    }\n",
              "\n",
              "    .dataframe tbody tr th {\n",
              "        vertical-align: top;\n",
              "    }\n",
              "\n",
              "    .dataframe thead th {\n",
              "        text-align: right;\n",
              "    }\n",
              "</style>\n",
              "<table border=\"1\" class=\"dataframe\">\n",
              "  <thead>\n",
              "    <tr style=\"text-align: right;\">\n",
              "      <th></th>\n",
              "      <th>Title</th>\n",
              "      <th>Abstract</th>\n",
              "      <th>Paragraph</th>\n",
              "      <th>Overall Coherence</th>\n",
              "      <th>Abstract-Paragraph Coherence</th>\n",
              "      <th>Temporay_Label</th>\n",
              "    </tr>\n",
              "  </thead>\n",
              "  <tbody>\n",
              "    <tr>\n",
              "      <th>0</th>\n",
              "      <td>More Diverse Dialogue Datasets via Diversity-I...</td>\n",
              "      <td>Automated generation of conversational dialogu...</td>\n",
              "      <td>Proceedings of the 58th Annual Meeting of the ...</td>\n",
              "      <td>0.5253</td>\n",
              "      <td>0.5753</td>\n",
              "      <td>negative</td>\n",
              "    </tr>\n",
              "    <tr>\n",
              "      <th>1</th>\n",
              "      <td>More Diverse Dialogue Datasets via Diversity-I...</td>\n",
              "      <td>Automated generation of conversational dialogu...</td>\n",
              "      <td>It is well-documented that neural dialogue mod...</td>\n",
              "      <td>0.7527</td>\n",
              "      <td>0.6880</td>\n",
              "      <td>negative</td>\n",
              "    </tr>\n",
              "    <tr>\n",
              "      <th>2</th>\n",
              "      <td>More Diverse Dialogue Datasets via Diversity-I...</td>\n",
              "      <td>Automated generation of conversational dialogu...</td>\n",
              "      <td>Improving model diversity is an important goal...</td>\n",
              "      <td>0.6295</td>\n",
              "      <td>0.6643</td>\n",
              "      <td>negative</td>\n",
              "    </tr>\n",
              "    <tr>\n",
              "      <th>3</th>\n",
              "      <td>More Diverse Dialogue Datasets via Diversity-I...</td>\n",
              "      <td>Automated generation of conversational dialogu...</td>\n",
              "      <td>Basu Roy et al. (2015) formulates the problem ...</td>\n",
              "      <td>0.3976</td>\n",
              "      <td>0.4181</td>\n",
              "      <td>negative</td>\n",
              "    </tr>\n",
              "    <tr>\n",
              "      <th>4</th>\n",
              "      <td>More Diverse Dialogue Datasets via Diversity-I...</td>\n",
              "      <td>Automated generation of conversational dialogu...</td>\n",
              "      <td>An additional area related to our work is crow...</td>\n",
              "      <td>0.3600</td>\n",
              "      <td>0.4677</td>\n",
              "      <td>negative</td>\n",
              "    </tr>\n",
              "    <tr>\n",
              "      <th>...</th>\n",
              "      <td>...</td>\n",
              "      <td>...</td>\n",
              "      <td>...</td>\n",
              "      <td>...</td>\n",
              "      <td>...</td>\n",
              "      <td>...</td>\n",
              "    </tr>\n",
              "    <tr>\n",
              "      <th>348</th>\n",
              "      <td>Learning to Understand Child-directed and Adul...</td>\n",
              "      <td>Speech directed to children differs from adult...</td>\n",
              "      <td>The model and training set-up is based on Merk...</td>\n",
              "      <td>0.5677</td>\n",
              "      <td>0.5872</td>\n",
              "      <td>negative</td>\n",
              "    </tr>\n",
              "    <tr>\n",
              "      <th>349</th>\n",
              "      <td>Learning to Understand Child-directed and Adul...</td>\n",
              "      <td>Speech directed to children differs from adult...</td>\n",
              "      <td>Trained models are evaluated by ranking all SB...</td>\n",
              "      <td>0.7856</td>\n",
              "      <td>0.6824</td>\n",
              "      <td>negative</td>\n",
              "    </tr>\n",
              "    <tr>\n",
              "      <th>350</th>\n",
              "      <td>Learning to Understand Child-directed and Adul...</td>\n",
              "      <td>Speech directed to children differs from adult...</td>\n",
              "      <td>Learnability is not just about eventual attain...</td>\n",
              "      <td>0.6681</td>\n",
              "      <td>0.6972</td>\n",
              "      <td>negative</td>\n",
              "    </tr>\n",
              "    <tr>\n",
              "      <th>351</th>\n",
              "      <td>Learning to Understand Child-directed and Adul...</td>\n",
              "      <td>Speech directed to children differs from adult...</td>\n",
              "      <td>We find indications that learning to extract m...</td>\n",
              "      <td>0.7434</td>\n",
              "      <td>0.6870</td>\n",
              "      <td>negative</td>\n",
              "    </tr>\n",
              "    <tr>\n",
              "      <th>353</th>\n",
              "      <td>From Arguments to Key Points: Towards Automati...</td>\n",
              "      <td>Generating a concise summary from a large coll...</td>\n",
              "      <td>The starting point for the current work is a c...</td>\n",
              "      <td>0.6725</td>\n",
              "      <td>0.6740</td>\n",
              "      <td>negative</td>\n",
              "    </tr>\n",
              "  </tbody>\n",
              "</table>\n",
              "<p>275 rows × 6 columns</p>\n",
              "</div>"
            ],
            "text/plain": [
              "                                                 Title  \\\n",
              "0    More Diverse Dialogue Datasets via Diversity-I...   \n",
              "1    More Diverse Dialogue Datasets via Diversity-I...   \n",
              "2    More Diverse Dialogue Datasets via Diversity-I...   \n",
              "3    More Diverse Dialogue Datasets via Diversity-I...   \n",
              "4    More Diverse Dialogue Datasets via Diversity-I...   \n",
              "..                                                 ...   \n",
              "348  Learning to Understand Child-directed and Adul...   \n",
              "349  Learning to Understand Child-directed and Adul...   \n",
              "350  Learning to Understand Child-directed and Adul...   \n",
              "351  Learning to Understand Child-directed and Adul...   \n",
              "353  From Arguments to Key Points: Towards Automati...   \n",
              "\n",
              "                                              Abstract  \\\n",
              "0    Automated generation of conversational dialogu...   \n",
              "1    Automated generation of conversational dialogu...   \n",
              "2    Automated generation of conversational dialogu...   \n",
              "3    Automated generation of conversational dialogu...   \n",
              "4    Automated generation of conversational dialogu...   \n",
              "..                                                 ...   \n",
              "348  Speech directed to children differs from adult...   \n",
              "349  Speech directed to children differs from adult...   \n",
              "350  Speech directed to children differs from adult...   \n",
              "351  Speech directed to children differs from adult...   \n",
              "353  Generating a concise summary from a large coll...   \n",
              "\n",
              "                                             Paragraph  Overall Coherence  \\\n",
              "0    Proceedings of the 58th Annual Meeting of the ...             0.5253   \n",
              "1    It is well-documented that neural dialogue mod...             0.7527   \n",
              "2    Improving model diversity is an important goal...             0.6295   \n",
              "3    Basu Roy et al. (2015) formulates the problem ...             0.3976   \n",
              "4    An additional area related to our work is crow...             0.3600   \n",
              "..                                                 ...                ...   \n",
              "348  The model and training set-up is based on Merk...             0.5677   \n",
              "349  Trained models are evaluated by ranking all SB...             0.7856   \n",
              "350  Learnability is not just about eventual attain...             0.6681   \n",
              "351  We find indications that learning to extract m...             0.7434   \n",
              "353  The starting point for the current work is a c...             0.6725   \n",
              "\n",
              "     Abstract-Paragraph Coherence Temporay_Label  \n",
              "0                          0.5753       negative  \n",
              "1                          0.6880       negative  \n",
              "2                          0.6643       negative  \n",
              "3                          0.4181       negative  \n",
              "4                          0.4677       negative  \n",
              "..                            ...            ...  \n",
              "348                        0.5872       negative  \n",
              "349                        0.6824       negative  \n",
              "350                        0.6972       negative  \n",
              "351                        0.6870       negative  \n",
              "353                        0.6740       negative  \n",
              "\n",
              "[275 rows x 6 columns]"
            ]
          },
          "execution_count": 273,
          "metadata": {},
          "output_type": "execute_result"
        }
      ],
      "source": [
        "subsetdf_negative_samples"
      ]
    },
    {
      "cell_type": "code",
      "execution_count": null,
      "id": "9b0e2fb2-4843-46d7-b188-3d6a28720045",
      "metadata": {
        "id": "9b0e2fb2-4843-46d7-b188-3d6a28720045"
      },
      "outputs": [],
      "source": [
        "df_positive_samples.to_csv(\"Positive_Samples.csv\")"
      ]
    },
    {
      "cell_type": "code",
      "execution_count": null,
      "id": "daabd66d-d839-403d-8980-7f2ba2486b0e",
      "metadata": {
        "id": "daabd66d-d839-403d-8980-7f2ba2486b0e"
      },
      "outputs": [],
      "source": [
        "subsetdf_negative_samples.to_csv(\"Temp_Negative_Samples.csv\")"
      ]
    },
    {
      "cell_type": "markdown",
      "id": "65c2468a-7f0d-42a2-98e5-505528418aee",
      "metadata": {
        "id": "65c2468a-7f0d-42a2-98e5-505528418aee"
      },
      "source": [
        "## Noise Injection Using Mistral"
      ]
    },
    {
      "cell_type": "code",
      "execution_count": null,
      "id": "298ad359-55eb-4815-8882-df333c842e06",
      "metadata": {
        "id": "298ad359-55eb-4815-8882-df333c842e06"
      },
      "outputs": [],
      "source": [
        "from huggingface_hub import login\n",
        "login(token=\"XXXX\")"
      ]
    },
    {
      "cell_type": "code",
      "execution_count": null,
      "id": "e688d760-8c17-43f8-82cd-b6bf791b1674",
      "metadata": {
        "id": "e688d760-8c17-43f8-82cd-b6bf791b1674"
      },
      "outputs": [],
      "source": [
        "import pandas as pd\n",
        "import torch\n",
        "import random\n",
        "from transformers import AutoTokenizer, AutoModelForCausalLM\n",
        "from nltk.tokenize import sent_tokenize\n",
        "\n",
        "df = pd.read_csv(\"Temp_Negative_Samples.csv\")\n",
        "\n",
        "# Initialize model and tokenizer\n",
        "model_name = \"mistralai/Mistral-7B-Instruct-v0.3\"\n",
        "tokenizer = AutoTokenizer.from_pretrained(model_name)\n",
        "tokenizer.pad_token = tokenizer.eos_token\n",
        "tokenizer.padding_side = \"left\"\n",
        "\n",
        "model = AutoModelForCausalLM.from_pretrained(\n",
        "    model_name,\n",
        "    torch_dtype=torch.float16,\n",
        "    device_map=\"auto\",\n",
        "    low_cpu_mem_usage=True\n",
        ")\n",
        "model.eval()\n",
        "\n",
        "def generate_noise_sentences(abstract, paragraph, num_sentences=3, max_new_tokens=300):\n",
        "    prompt = f\"\"\"<s>[INST]\n",
        "    Generate exactly {num_sentences} short sentences that are COMPLETELY UNRELATED to this abstract.\n",
        "    The sentences should be obviously irrelevant and not contain any terms from the abstract.\n",
        "    The irrelevant sentences should be related to Computer Science Domain. The generated sentences should break the paragraph coherence and logical flow of the paragraph.\n",
        "\n",
        "    ### ABSTRACT:\n",
        "    {abstract}\n",
        "\n",
        "    ### IRRELEVANT SENTENCES:\n",
        "    [/INST]\"\"\"\n",
        "\n",
        "    inputs = tokenizer(prompt, return_tensors=\"pt\", truncation=True, max_length=1024).to(model.device)\n",
        "\n",
        "    with torch.no_grad():\n",
        "        outputs = model.generate(\n",
        "            **inputs,\n",
        "            max_new_tokens=max_new_tokens,\n",
        "            do_sample=True,\n",
        "            temperature=0.7,\n",
        "            top_p=0.95,\n",
        "            pad_token_id=tokenizer.eos_token_id,\n",
        "        )\n",
        "\n",
        "    generated = tokenizer.decode(outputs[0], skip_special_tokens=True)\n",
        "    noise = generated.split(\"### IRRELEVANT SENTENCES:\")[-1].strip()\n",
        "    x = sent_tokenize(noise)\n",
        "    filtered = [s for s in x if not s.strip().replace('.','').isdigit()]\n",
        "    return filtered\n",
        "    #return [s.strip() for s in noise.split('.') if s.strip()][:num_sentences]\n",
        "\n",
        "def inject_noise_random(abstract, paragraph, num_noise=3):\n",
        "    try:\n",
        "        noise_sentences = generate_noise_sentences(abstract, paragraph, num_sentences=num_noise)\n",
        "        original_sentences = [s.strip() for s in paragraph.split('. ') if s.strip()]\n",
        "        for noise in noise_sentences:\n",
        "            insert_pos = random.randint(0, len(original_sentences))\n",
        "            original_sentences.insert(insert_pos, noise)\n",
        "        modified_paragraph = '. '.join(original_sentences)\n",
        "        if not modified_paragraph.endswith('.'):\n",
        "            modified_paragraph += '.'\n",
        "        return modified_paragraph\n",
        "    except Exception as e:\n",
        "        print(\"Error injecting noise:\", e)\n",
        "        return paragraph\n",
        "\n",
        "# Apply noise injection and log issues\n",
        "def process_row(row):\n",
        "    modified = inject_noise_random(row['Abstract'], row['Paragraph'])\n",
        "    if modified.strip() == row['Paragraph'].strip():\n",
        "        print(\"\\n--- NO CHANGE ---\")\n",
        "        print(\"Abstract:\", row['Abstract'][:100])\n",
        "        print(\"Paragraph:\", row['Paragraph'][:100])\n",
        "    return modified\n",
        "\n",
        "df['modified_paragraph'] = df.apply(process_row, axis=1)\n",
        "\n",
        "# Check how many actually changed\n",
        "num_changed = (df['modified_paragraph'] != df['Paragraph']).sum()\n",
        "print(f\"\\nModified {num_changed} out of {len(df)} rows.\")\n",
        "\n",
        "# Optional: Save to CSV\n",
        "df.to_csv(\"noisetest.csv\", index=False)\n"
      ]
    },
    {
      "cell_type": "markdown",
      "id": "2b7dff19-9e13-424e-92ee-ea5eb3beb39e",
      "metadata": {
        "id": "2b7dff19-9e13-424e-92ee-ea5eb3beb39e"
      },
      "source": [
        "## Make Finetune Dataset"
      ]
    },
    {
      "cell_type": "code",
      "execution_count": null,
      "id": "ef66d63b-1931-417d-8713-6d4ac04c417a",
      "metadata": {
        "id": "ef66d63b-1931-417d-8713-6d4ac04c417a"
      },
      "outputs": [],
      "source": [
        "pos = pd.read_csv(r\"/XXXX/ACL/CSVs/FinetuneDataset/Positive_Samples.csv\",encoding=\"ISO-8859-1\")\n",
        "neg = pd.read_csv(r\"/XXXX/ACL/CSVs/FinetuneDataset/noisetest.csv\",encoding=\"ISO-8859-1\")"
      ]
    },
    {
      "cell_type": "code",
      "execution_count": null,
      "id": "557fdffb-1860-43a8-aaec-19d2f28cb91c",
      "metadata": {
        "id": "557fdffb-1860-43a8-aaec-19d2f28cb91c"
      },
      "outputs": [],
      "source": [
        "pos=pos[['Title','Abstract','Paragraph','Temporay_Label']]"
      ]
    },
    {
      "cell_type": "code",
      "execution_count": null,
      "id": "4d5359d9-33d1-4fd8-b8d7-0f3bbdba6486",
      "metadata": {
        "id": "4d5359d9-33d1-4fd8-b8d7-0f3bbdba6486",
        "outputId": "24334c8c-bccf-4113-a96c-54db65e123a4"
      },
      "outputs": [
        {
          "data": {
            "text/html": [
              "<div>\n",
              "<style scoped>\n",
              "    .dataframe tbody tr th:only-of-type {\n",
              "        vertical-align: middle;\n",
              "    }\n",
              "\n",
              "    .dataframe tbody tr th {\n",
              "        vertical-align: top;\n",
              "    }\n",
              "\n",
              "    .dataframe thead th {\n",
              "        text-align: right;\n",
              "    }\n",
              "</style>\n",
              "<table border=\"1\" class=\"dataframe\">\n",
              "  <thead>\n",
              "    <tr style=\"text-align: right;\">\n",
              "      <th></th>\n",
              "      <th>Title</th>\n",
              "      <th>Abstract</th>\n",
              "      <th>Paragraph</th>\n",
              "      <th>Temporay_Label</th>\n",
              "    </tr>\n",
              "  </thead>\n",
              "  <tbody>\n",
              "    <tr>\n",
              "      <th>0</th>\n",
              "      <td>On Exposure Bias, Hallucination and Domain Shi...</td>\n",
              "      <td>The standard training algorithm in neural mach...</td>\n",
              "      <td>Figure 1 shows that with MLE, distractor sente...</td>\n",
              "      <td>positive</td>\n",
              "    </tr>\n",
              "    <tr>\n",
              "      <th>1</th>\n",
              "      <td>Generative Semantic Hashing Enhanced via Boltz...</td>\n",
              "      <td>Generative semantic hashing is a promising tec...</td>\n",
              "      <td>An alternative way is to approximate the expec...</td>\n",
              "      <td>positive</td>\n",
              "    </tr>\n",
              "    <tr>\n",
              "      <th>2</th>\n",
              "      <td>Reasoning with Latent Structure Refinement for...</td>\n",
              "      <td>Document-level relation extraction requires in...</td>\n",
              "      <td>Relation extraction aims to detect relations a...</td>\n",
              "      <td>positive</td>\n",
              "    </tr>\n",
              "    <tr>\n",
              "      <th>3</th>\n",
              "      <td>Reasoning with Latent Structure Refinement for...</td>\n",
              "      <td>Document-level relation extraction requires in...</td>\n",
              "      <td>We construct three types of nodes for a docume...</td>\n",
              "      <td>positive</td>\n",
              "    </tr>\n",
              "    <tr>\n",
              "      <th>4</th>\n",
              "      <td>Reasoning with Latent Structure Refinement for...</td>\n",
              "      <td>Document-level relation extraction requires in...</td>\n",
              "      <td>Unlike existing models that use co-reference l...</td>\n",
              "      <td>positive</td>\n",
              "    </tr>\n",
              "  </tbody>\n",
              "</table>\n",
              "</div>"
            ],
            "text/plain": [
              "                                               Title  \\\n",
              "0  On Exposure Bias, Hallucination and Domain Shi...   \n",
              "1  Generative Semantic Hashing Enhanced via Boltz...   \n",
              "2  Reasoning with Latent Structure Refinement for...   \n",
              "3  Reasoning with Latent Structure Refinement for...   \n",
              "4  Reasoning with Latent Structure Refinement for...   \n",
              "\n",
              "                                            Abstract  \\\n",
              "0  The standard training algorithm in neural mach...   \n",
              "1  Generative semantic hashing is a promising tec...   \n",
              "2  Document-level relation extraction requires in...   \n",
              "3  Document-level relation extraction requires in...   \n",
              "4  Document-level relation extraction requires in...   \n",
              "\n",
              "                                           Paragraph Temporay_Label  \n",
              "0  Figure 1 shows that with MLE, distractor sente...       positive  \n",
              "1  An alternative way is to approximate the expec...       positive  \n",
              "2  Relation extraction aims to detect relations a...       positive  \n",
              "3  We construct three types of nodes for a docume...       positive  \n",
              "4  Unlike existing models that use co-reference l...       positive  "
            ]
          },
          "execution_count": 298,
          "metadata": {},
          "output_type": "execute_result"
        }
      ],
      "source": [
        "pos.head(5)"
      ]
    },
    {
      "cell_type": "code",
      "execution_count": null,
      "id": "6b18aa31-1d3d-4616-9cba-e7d2a10913c5",
      "metadata": {
        "id": "6b18aa31-1d3d-4616-9cba-e7d2a10913c5",
        "outputId": "6cfa57c7-af7d-41f5-bd48-aee69c79adee"
      },
      "outputs": [
        {
          "data": {
            "text/html": [
              "<div>\n",
              "<style scoped>\n",
              "    .dataframe tbody tr th:only-of-type {\n",
              "        vertical-align: middle;\n",
              "    }\n",
              "\n",
              "    .dataframe tbody tr th {\n",
              "        vertical-align: top;\n",
              "    }\n",
              "\n",
              "    .dataframe thead th {\n",
              "        text-align: right;\n",
              "    }\n",
              "</style>\n",
              "<table border=\"1\" class=\"dataframe\">\n",
              "  <thead>\n",
              "    <tr style=\"text-align: right;\">\n",
              "      <th></th>\n",
              "      <th>Unnamed: 0</th>\n",
              "      <th>Title</th>\n",
              "      <th>Abstract</th>\n",
              "      <th>Paragraph</th>\n",
              "      <th>Overall Coherence</th>\n",
              "      <th>Abstract-Paragraph Coherence</th>\n",
              "      <th>Temporay_Label</th>\n",
              "      <th>modified_paragraph</th>\n",
              "    </tr>\n",
              "  </thead>\n",
              "  <tbody>\n",
              "    <tr>\n",
              "      <th>0</th>\n",
              "      <td>0</td>\n",
              "      <td>More Diverse Dialogue Datasets via Diversity-I...</td>\n",
              "      <td>Automated generation of conversational dialogu...</td>\n",
              "      <td>Proceedings of the 58th Annual Meeting of the ...</td>\n",
              "      <td>0.5253</td>\n",
              "      <td>0.5753</td>\n",
              "      <td>negative</td>\n",
              "      <td>Proceedings of the 58th Annual Meeting of the ...</td>\n",
              "    </tr>\n",
              "    <tr>\n",
              "      <th>1</th>\n",
              "      <td>1</td>\n",
              "      <td>More Diverse Dialogue Datasets via Diversity-I...</td>\n",
              "      <td>Automated generation of conversational dialogu...</td>\n",
              "      <td>It is well-documented that neural dialogue mod...</td>\n",
              "      <td>0.7527</td>\n",
              "      <td>0.6880</td>\n",
              "      <td>negative</td>\n",
              "      <td>The rise of quantum computing has opened up ne...</td>\n",
              "    </tr>\n",
              "    <tr>\n",
              "      <th>2</th>\n",
              "      <td>2</td>\n",
              "      <td>More Diverse Dialogue Datasets via Diversity-I...</td>\n",
              "      <td>Automated generation of conversational dialogu...</td>\n",
              "      <td>Improving model diversity is an important goal...</td>\n",
              "      <td>0.6295</td>\n",
              "      <td>0.6643</td>\n",
              "      <td>negative</td>\n",
              "      <td>Improving model diversity is an important goal...</td>\n",
              "    </tr>\n",
              "    <tr>\n",
              "      <th>3</th>\n",
              "      <td>3</td>\n",
              "      <td>More Diverse Dialogue Datasets via Diversity-I...</td>\n",
              "      <td>Automated generation of conversational dialogu...</td>\n",
              "      <td>Basu Roy et al. (2015) formulates the problem ...</td>\n",
              "      <td>0.3976</td>\n",
              "      <td>0.4181</td>\n",
              "      <td>negative</td>\n",
              "      <td>Basu Roy et al. Algorithmic complexity in grap...</td>\n",
              "    </tr>\n",
              "    <tr>\n",
              "      <th>4</th>\n",
              "      <td>4</td>\n",
              "      <td>More Diverse Dialogue Datasets via Diversity-I...</td>\n",
              "      <td>Automated generation of conversational dialogu...</td>\n",
              "      <td>An additional area related to our work is crow...</td>\n",
              "      <td>0.3600</td>\n",
              "      <td>0.4677</td>\n",
              "      <td>negative</td>\n",
              "      <td>An additional area related to our work is crow...</td>\n",
              "    </tr>\n",
              "  </tbody>\n",
              "</table>\n",
              "</div>"
            ],
            "text/plain": [
              "   Unnamed: 0                                              Title  \\\n",
              "0           0  More Diverse Dialogue Datasets via Diversity-I...   \n",
              "1           1  More Diverse Dialogue Datasets via Diversity-I...   \n",
              "2           2  More Diverse Dialogue Datasets via Diversity-I...   \n",
              "3           3  More Diverse Dialogue Datasets via Diversity-I...   \n",
              "4           4  More Diverse Dialogue Datasets via Diversity-I...   \n",
              "\n",
              "                                            Abstract  \\\n",
              "0  Automated generation of conversational dialogu...   \n",
              "1  Automated generation of conversational dialogu...   \n",
              "2  Automated generation of conversational dialogu...   \n",
              "3  Automated generation of conversational dialogu...   \n",
              "4  Automated generation of conversational dialogu...   \n",
              "\n",
              "                                           Paragraph  Overall Coherence  \\\n",
              "0  Proceedings of the 58th Annual Meeting of the ...             0.5253   \n",
              "1  It is well-documented that neural dialogue mod...             0.7527   \n",
              "2  Improving model diversity is an important goal...             0.6295   \n",
              "3  Basu Roy et al. (2015) formulates the problem ...             0.3976   \n",
              "4  An additional area related to our work is crow...             0.3600   \n",
              "\n",
              "   Abstract-Paragraph Coherence Temporay_Label  \\\n",
              "0                        0.5753       negative   \n",
              "1                        0.6880       negative   \n",
              "2                        0.6643       negative   \n",
              "3                        0.4181       negative   \n",
              "4                        0.4677       negative   \n",
              "\n",
              "                                  modified_paragraph  \n",
              "0  Proceedings of the 58th Annual Meeting of the ...  \n",
              "1  The rise of quantum computing has opened up ne...  \n",
              "2  Improving model diversity is an important goal...  \n",
              "3  Basu Roy et al. Algorithmic complexity in grap...  \n",
              "4  An additional area related to our work is crow...  "
            ]
          },
          "execution_count": 300,
          "metadata": {},
          "output_type": "execute_result"
        }
      ],
      "source": [
        "neg.head(5)"
      ]
    },
    {
      "cell_type": "code",
      "execution_count": null,
      "id": "48e672cf-6a20-457f-9e21-fd8e85b8925a",
      "metadata": {
        "id": "48e672cf-6a20-457f-9e21-fd8e85b8925a"
      },
      "outputs": [],
      "source": [
        "neg=neg[['Title','Abstract','modified_paragraph','Temporay_Label']]"
      ]
    },
    {
      "cell_type": "code",
      "execution_count": null,
      "id": "cd3577cf-6e44-4b85-a56d-5b8e2cbcc34e",
      "metadata": {
        "id": "cd3577cf-6e44-4b85-a56d-5b8e2cbcc34e",
        "outputId": "e7552133-1983-41bf-ba80-d8baf43f0136"
      },
      "outputs": [
        {
          "data": {
            "text/html": [
              "<div>\n",
              "<style scoped>\n",
              "    .dataframe tbody tr th:only-of-type {\n",
              "        vertical-align: middle;\n",
              "    }\n",
              "\n",
              "    .dataframe tbody tr th {\n",
              "        vertical-align: top;\n",
              "    }\n",
              "\n",
              "    .dataframe thead th {\n",
              "        text-align: right;\n",
              "    }\n",
              "</style>\n",
              "<table border=\"1\" class=\"dataframe\">\n",
              "  <thead>\n",
              "    <tr style=\"text-align: right;\">\n",
              "      <th></th>\n",
              "      <th>Title</th>\n",
              "      <th>Abstract</th>\n",
              "      <th>modified_paragraph</th>\n",
              "      <th>Temporay_Label</th>\n",
              "    </tr>\n",
              "  </thead>\n",
              "  <tbody>\n",
              "    <tr>\n",
              "      <th>0</th>\n",
              "      <td>More Diverse Dialogue Datasets via Diversity-I...</td>\n",
              "      <td>Automated generation of conversational dialogu...</td>\n",
              "      <td>Proceedings of the 58th Annual Meeting of the ...</td>\n",
              "      <td>negative</td>\n",
              "    </tr>\n",
              "    <tr>\n",
              "      <th>1</th>\n",
              "      <td>More Diverse Dialogue Datasets via Diversity-I...</td>\n",
              "      <td>Automated generation of conversational dialogu...</td>\n",
              "      <td>The rise of quantum computing has opened up ne...</td>\n",
              "      <td>negative</td>\n",
              "    </tr>\n",
              "    <tr>\n",
              "      <th>2</th>\n",
              "      <td>More Diverse Dialogue Datasets via Diversity-I...</td>\n",
              "      <td>Automated generation of conversational dialogu...</td>\n",
              "      <td>Improving model diversity is an important goal...</td>\n",
              "      <td>negative</td>\n",
              "    </tr>\n",
              "    <tr>\n",
              "      <th>3</th>\n",
              "      <td>More Diverse Dialogue Datasets via Diversity-I...</td>\n",
              "      <td>Automated generation of conversational dialogu...</td>\n",
              "      <td>Basu Roy et al. Algorithmic complexity in grap...</td>\n",
              "      <td>negative</td>\n",
              "    </tr>\n",
              "    <tr>\n",
              "      <th>4</th>\n",
              "      <td>More Diverse Dialogue Datasets via Diversity-I...</td>\n",
              "      <td>Automated generation of conversational dialogu...</td>\n",
              "      <td>An additional area related to our work is crow...</td>\n",
              "      <td>negative</td>\n",
              "    </tr>\n",
              "    <tr>\n",
              "      <th>...</th>\n",
              "      <td>...</td>\n",
              "      <td>...</td>\n",
              "      <td>...</td>\n",
              "      <td>...</td>\n",
              "    </tr>\n",
              "    <tr>\n",
              "      <th>270</th>\n",
              "      <td>Learning to Understand Child-directed and Adul...</td>\n",
              "      <td>Speech directed to children differs from adult...</td>\n",
              "      <td>The model and training set-up is based on Merk...</td>\n",
              "      <td>negative</td>\n",
              "    </tr>\n",
              "    <tr>\n",
              "      <th>271</th>\n",
              "      <td>Learning to Understand Child-directed and Adul...</td>\n",
              "      <td>Speech directed to children differs from adult...</td>\n",
              "      <td>The development of quantum computing has the p...</td>\n",
              "      <td>negative</td>\n",
              "    </tr>\n",
              "    <tr>\n",
              "      <th>272</th>\n",
              "      <td>Learning to Understand Child-directed and Adul...</td>\n",
              "      <td>Speech directed to children differs from adult...</td>\n",
              "      <td>The use of genetic algorithms in optimizing so...</td>\n",
              "      <td>negative</td>\n",
              "    </tr>\n",
              "    <tr>\n",
              "      <th>273</th>\n",
              "      <td>Learning to Understand Child-directed and Adul...</td>\n",
              "      <td>Speech directed to children differs from adult...</td>\n",
              "      <td>A new algorithm for data compression, based on...</td>\n",
              "      <td>negative</td>\n",
              "    </tr>\n",
              "    <tr>\n",
              "      <th>274</th>\n",
              "      <td>From Arguments to Key Points: Towards Automati...</td>\n",
              "      <td>Generating a concise summary from a large coll...</td>\n",
              "      <td>The advent of quantum computing has opened up ...</td>\n",
              "      <td>negative</td>\n",
              "    </tr>\n",
              "  </tbody>\n",
              "</table>\n",
              "<p>275 rows × 4 columns</p>\n",
              "</div>"
            ],
            "text/plain": [
              "                                                 Title  \\\n",
              "0    More Diverse Dialogue Datasets via Diversity-I...   \n",
              "1    More Diverse Dialogue Datasets via Diversity-I...   \n",
              "2    More Diverse Dialogue Datasets via Diversity-I...   \n",
              "3    More Diverse Dialogue Datasets via Diversity-I...   \n",
              "4    More Diverse Dialogue Datasets via Diversity-I...   \n",
              "..                                                 ...   \n",
              "270  Learning to Understand Child-directed and Adul...   \n",
              "271  Learning to Understand Child-directed and Adul...   \n",
              "272  Learning to Understand Child-directed and Adul...   \n",
              "273  Learning to Understand Child-directed and Adul...   \n",
              "274  From Arguments to Key Points: Towards Automati...   \n",
              "\n",
              "                                              Abstract  \\\n",
              "0    Automated generation of conversational dialogu...   \n",
              "1    Automated generation of conversational dialogu...   \n",
              "2    Automated generation of conversational dialogu...   \n",
              "3    Automated generation of conversational dialogu...   \n",
              "4    Automated generation of conversational dialogu...   \n",
              "..                                                 ...   \n",
              "270  Speech directed to children differs from adult...   \n",
              "271  Speech directed to children differs from adult...   \n",
              "272  Speech directed to children differs from adult...   \n",
              "273  Speech directed to children differs from adult...   \n",
              "274  Generating a concise summary from a large coll...   \n",
              "\n",
              "                                    modified_paragraph Temporay_Label  \n",
              "0    Proceedings of the 58th Annual Meeting of the ...       negative  \n",
              "1    The rise of quantum computing has opened up ne...       negative  \n",
              "2    Improving model diversity is an important goal...       negative  \n",
              "3    Basu Roy et al. Algorithmic complexity in grap...       negative  \n",
              "4    An additional area related to our work is crow...       negative  \n",
              "..                                                 ...            ...  \n",
              "270  The model and training set-up is based on Merk...       negative  \n",
              "271  The development of quantum computing has the p...       negative  \n",
              "272  The use of genetic algorithms in optimizing so...       negative  \n",
              "273  A new algorithm for data compression, based on...       negative  \n",
              "274  The advent of quantum computing has opened up ...       negative  \n",
              "\n",
              "[275 rows x 4 columns]"
            ]
          },
          "execution_count": 302,
          "metadata": {},
          "output_type": "execute_result"
        }
      ],
      "source": [
        "neg"
      ]
    },
    {
      "cell_type": "code",
      "execution_count": null,
      "id": "8ec44810-c485-4259-8d33-875ea68e109a",
      "metadata": {
        "id": "8ec44810-c485-4259-8d33-875ea68e109a"
      },
      "outputs": [],
      "source": [
        "pos = pos.rename(columns={\n",
        "    'Temporay_Label': 'Label',\n",
        "})"
      ]
    },
    {
      "cell_type": "code",
      "execution_count": null,
      "id": "a8922538-2c8f-4ae2-b3c3-68bd194d41e4",
      "metadata": {
        "id": "a8922538-2c8f-4ae2-b3c3-68bd194d41e4",
        "outputId": "54014c37-0994-4cd4-de07-1eb49cd4b9d1"
      },
      "outputs": [
        {
          "data": {
            "text/html": [
              "<div>\n",
              "<style scoped>\n",
              "    .dataframe tbody tr th:only-of-type {\n",
              "        vertical-align: middle;\n",
              "    }\n",
              "\n",
              "    .dataframe tbody tr th {\n",
              "        vertical-align: top;\n",
              "    }\n",
              "\n",
              "    .dataframe thead th {\n",
              "        text-align: right;\n",
              "    }\n",
              "</style>\n",
              "<table border=\"1\" class=\"dataframe\">\n",
              "  <thead>\n",
              "    <tr style=\"text-align: right;\">\n",
              "      <th></th>\n",
              "      <th>Title</th>\n",
              "      <th>Abstract</th>\n",
              "      <th>Paragraph</th>\n",
              "      <th>Label</th>\n",
              "    </tr>\n",
              "  </thead>\n",
              "  <tbody>\n",
              "    <tr>\n",
              "      <th>0</th>\n",
              "      <td>On Exposure Bias, Hallucination and Domain Shi...</td>\n",
              "      <td>The standard training algorithm in neural mach...</td>\n",
              "      <td>Figure 1 shows that with MLE, distractor sente...</td>\n",
              "      <td>positive</td>\n",
              "    </tr>\n",
              "    <tr>\n",
              "      <th>1</th>\n",
              "      <td>Generative Semantic Hashing Enhanced via Boltz...</td>\n",
              "      <td>Generative semantic hashing is a promising tec...</td>\n",
              "      <td>An alternative way is to approximate the expec...</td>\n",
              "      <td>positive</td>\n",
              "    </tr>\n",
              "    <tr>\n",
              "      <th>2</th>\n",
              "      <td>Reasoning with Latent Structure Refinement for...</td>\n",
              "      <td>Document-level relation extraction requires in...</td>\n",
              "      <td>Relation extraction aims to detect relations a...</td>\n",
              "      <td>positive</td>\n",
              "    </tr>\n",
              "    <tr>\n",
              "      <th>3</th>\n",
              "      <td>Reasoning with Latent Structure Refinement for...</td>\n",
              "      <td>Document-level relation extraction requires in...</td>\n",
              "      <td>We construct three types of nodes for a docume...</td>\n",
              "      <td>positive</td>\n",
              "    </tr>\n",
              "    <tr>\n",
              "      <th>4</th>\n",
              "      <td>Reasoning with Latent Structure Refinement for...</td>\n",
              "      <td>Document-level relation extraction requires in...</td>\n",
              "      <td>Unlike existing models that use co-reference l...</td>\n",
              "      <td>positive</td>\n",
              "    </tr>\n",
              "  </tbody>\n",
              "</table>\n",
              "</div>"
            ],
            "text/plain": [
              "                                               Title  \\\n",
              "0  On Exposure Bias, Hallucination and Domain Shi...   \n",
              "1  Generative Semantic Hashing Enhanced via Boltz...   \n",
              "2  Reasoning with Latent Structure Refinement for...   \n",
              "3  Reasoning with Latent Structure Refinement for...   \n",
              "4  Reasoning with Latent Structure Refinement for...   \n",
              "\n",
              "                                            Abstract  \\\n",
              "0  The standard training algorithm in neural mach...   \n",
              "1  Generative semantic hashing is a promising tec...   \n",
              "2  Document-level relation extraction requires in...   \n",
              "3  Document-level relation extraction requires in...   \n",
              "4  Document-level relation extraction requires in...   \n",
              "\n",
              "                                           Paragraph     Label  \n",
              "0  Figure 1 shows that with MLE, distractor sente...  positive  \n",
              "1  An alternative way is to approximate the expec...  positive  \n",
              "2  Relation extraction aims to detect relations a...  positive  \n",
              "3  We construct three types of nodes for a docume...  positive  \n",
              "4  Unlike existing models that use co-reference l...  positive  "
            ]
          },
          "execution_count": 305,
          "metadata": {},
          "output_type": "execute_result"
        }
      ],
      "source": [
        "pos.head(5)"
      ]
    },
    {
      "cell_type": "code",
      "execution_count": null,
      "id": "20cfdd89-017d-4ff1-b145-e0a6c28b1667",
      "metadata": {
        "id": "20cfdd89-017d-4ff1-b145-e0a6c28b1667"
      },
      "outputs": [],
      "source": [
        "neg = neg.rename(columns={\n",
        "    'modified_paragraph':'Paragraph',\n",
        "    'Temporay_Label': 'Label'\n",
        "})"
      ]
    },
    {
      "cell_type": "code",
      "execution_count": null,
      "id": "4c8b1185-f890-4eea-9c7a-f84d46d8c3ad",
      "metadata": {
        "id": "4c8b1185-f890-4eea-9c7a-f84d46d8c3ad",
        "outputId": "1c32c526-16ea-4195-adfe-1774adbfac99"
      },
      "outputs": [
        {
          "data": {
            "text/html": [
              "<div>\n",
              "<style scoped>\n",
              "    .dataframe tbody tr th:only-of-type {\n",
              "        vertical-align: middle;\n",
              "    }\n",
              "\n",
              "    .dataframe tbody tr th {\n",
              "        vertical-align: top;\n",
              "    }\n",
              "\n",
              "    .dataframe thead th {\n",
              "        text-align: right;\n",
              "    }\n",
              "</style>\n",
              "<table border=\"1\" class=\"dataframe\">\n",
              "  <thead>\n",
              "    <tr style=\"text-align: right;\">\n",
              "      <th></th>\n",
              "      <th>Title</th>\n",
              "      <th>Abstract</th>\n",
              "      <th>Paragraph</th>\n",
              "      <th>Label</th>\n",
              "    </tr>\n",
              "  </thead>\n",
              "  <tbody>\n",
              "    <tr>\n",
              "      <th>0</th>\n",
              "      <td>More Diverse Dialogue Datasets via Diversity-I...</td>\n",
              "      <td>Automated generation of conversational dialogu...</td>\n",
              "      <td>Proceedings of the 58th Annual Meeting of the ...</td>\n",
              "      <td>negative</td>\n",
              "    </tr>\n",
              "    <tr>\n",
              "      <th>1</th>\n",
              "      <td>More Diverse Dialogue Datasets via Diversity-I...</td>\n",
              "      <td>Automated generation of conversational dialogu...</td>\n",
              "      <td>The rise of quantum computing has opened up ne...</td>\n",
              "      <td>negative</td>\n",
              "    </tr>\n",
              "    <tr>\n",
              "      <th>2</th>\n",
              "      <td>More Diverse Dialogue Datasets via Diversity-I...</td>\n",
              "      <td>Automated generation of conversational dialogu...</td>\n",
              "      <td>Improving model diversity is an important goal...</td>\n",
              "      <td>negative</td>\n",
              "    </tr>\n",
              "    <tr>\n",
              "      <th>3</th>\n",
              "      <td>More Diverse Dialogue Datasets via Diversity-I...</td>\n",
              "      <td>Automated generation of conversational dialogu...</td>\n",
              "      <td>Basu Roy et al. Algorithmic complexity in grap...</td>\n",
              "      <td>negative</td>\n",
              "    </tr>\n",
              "    <tr>\n",
              "      <th>4</th>\n",
              "      <td>More Diverse Dialogue Datasets via Diversity-I...</td>\n",
              "      <td>Automated generation of conversational dialogu...</td>\n",
              "      <td>An additional area related to our work is crow...</td>\n",
              "      <td>negative</td>\n",
              "    </tr>\n",
              "  </tbody>\n",
              "</table>\n",
              "</div>"
            ],
            "text/plain": [
              "                                               Title  \\\n",
              "0  More Diverse Dialogue Datasets via Diversity-I...   \n",
              "1  More Diverse Dialogue Datasets via Diversity-I...   \n",
              "2  More Diverse Dialogue Datasets via Diversity-I...   \n",
              "3  More Diverse Dialogue Datasets via Diversity-I...   \n",
              "4  More Diverse Dialogue Datasets via Diversity-I...   \n",
              "\n",
              "                                            Abstract  \\\n",
              "0  Automated generation of conversational dialogu...   \n",
              "1  Automated generation of conversational dialogu...   \n",
              "2  Automated generation of conversational dialogu...   \n",
              "3  Automated generation of conversational dialogu...   \n",
              "4  Automated generation of conversational dialogu...   \n",
              "\n",
              "                                           Paragraph     Label  \n",
              "0  Proceedings of the 58th Annual Meeting of the ...  negative  \n",
              "1  The rise of quantum computing has opened up ne...  negative  \n",
              "2  Improving model diversity is an important goal...  negative  \n",
              "3  Basu Roy et al. Algorithmic complexity in grap...  negative  \n",
              "4  An additional area related to our work is crow...  negative  "
            ]
          },
          "execution_count": 307,
          "metadata": {},
          "output_type": "execute_result"
        }
      ],
      "source": [
        "neg.head(5)"
      ]
    },
    {
      "cell_type": "code",
      "execution_count": null,
      "id": "adfb2578-6e8c-4845-ba09-93553253b41d",
      "metadata": {
        "id": "adfb2578-6e8c-4845-ba09-93553253b41d"
      },
      "outputs": [],
      "source": [
        "result = pd.concat([pos, neg], ignore_index=True)"
      ]
    },
    {
      "cell_type": "code",
      "execution_count": null,
      "id": "b1523f7d-a076-48b8-99ed-1a1197eddcde",
      "metadata": {
        "id": "b1523f7d-a076-48b8-99ed-1a1197eddcde",
        "outputId": "32c62405-d04f-4c3f-8c5c-66bdba3c4e53"
      },
      "outputs": [
        {
          "data": {
            "text/plain": [
              "(450, 4)"
            ]
          },
          "execution_count": 309,
          "metadata": {},
          "output_type": "execute_result"
        }
      ],
      "source": [
        "result.shape"
      ]
    },
    {
      "cell_type": "code",
      "execution_count": null,
      "id": "3a8c3950-790d-45b9-983e-9c1d3a79c21c",
      "metadata": {
        "id": "3a8c3950-790d-45b9-983e-9c1d3a79c21c"
      },
      "outputs": [],
      "source": [
        "result.to_csv(\"Final_for_finetune.csv\")"
      ]
    }
  ],
  "metadata": {
    "kernelspec": {
      "display_name": "Python 3 (ipykernel)",
      "language": "python",
      "name": "python3"
    },
    "language_info": {
      "codemirror_mode": {
        "name": "ipython",
        "version": 3
      },
      "file_extension": ".py",
      "mimetype": "text/x-python",
      "name": "python",
      "nbconvert_exporter": "python",
      "pygments_lexer": "ipython3",
      "version": "3.10.14"
    },
    "colab": {
      "provenance": []
    }
  },
  "nbformat": 4,
  "nbformat_minor": 5
}